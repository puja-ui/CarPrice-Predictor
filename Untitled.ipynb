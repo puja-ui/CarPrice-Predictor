{
 "cells": [
  {
   "cell_type": "code",
   "execution_count": 87,
   "id": "95c52228",
   "metadata": {},
   "outputs": [],
   "source": [
    "import pandas as pd\n",
    "import matplotlib.pyplot as plt\n",
    "\n",
    "df = pd.read_csv(\"cardata1.csv\")"
   ]
  },
  {
   "cell_type": "code",
   "execution_count": 88,
   "id": "7b119c5d",
   "metadata": {},
   "outputs": [
    {
     "data": {
      "text/html": [
       "<div>\n",
       "<style scoped>\n",
       "    .dataframe tbody tr th:only-of-type {\n",
       "        vertical-align: middle;\n",
       "    }\n",
       "\n",
       "    .dataframe tbody tr th {\n",
       "        vertical-align: top;\n",
       "    }\n",
       "\n",
       "    .dataframe thead th {\n",
       "        text-align: right;\n",
       "    }\n",
       "</style>\n",
       "<table border=\"1\" class=\"dataframe\">\n",
       "  <thead>\n",
       "    <tr style=\"text-align: right;\">\n",
       "      <th></th>\n",
       "      <th>name</th>\n",
       "      <th>brand</th>\n",
       "      <th>year</th>\n",
       "      <th>selling_price</th>\n",
       "      <th>km_driven</th>\n",
       "      <th>fuel</th>\n",
       "      <th>seller_type</th>\n",
       "      <th>transmission</th>\n",
       "      <th>owner</th>\n",
       "      <th>mileage</th>\n",
       "      <th>engine</th>\n",
       "      <th>max_power</th>\n",
       "      <th>torque</th>\n",
       "      <th>seats</th>\n",
       "    </tr>\n",
       "  </thead>\n",
       "  <tbody>\n",
       "    <tr>\n",
       "      <th>0</th>\n",
       "      <td>Maruti Swift Dzire VDI</td>\n",
       "      <td>Maruti</td>\n",
       "      <td>2014</td>\n",
       "      <td>450000</td>\n",
       "      <td>145500</td>\n",
       "      <td>Diesel</td>\n",
       "      <td>Individual</td>\n",
       "      <td>Manual</td>\n",
       "      <td>First Owner</td>\n",
       "      <td>23.4 kmpl</td>\n",
       "      <td>1248 CC</td>\n",
       "      <td>74 bhp</td>\n",
       "      <td>190Nm@ 2000rpm</td>\n",
       "      <td>5.0</td>\n",
       "    </tr>\n",
       "    <tr>\n",
       "      <th>1</th>\n",
       "      <td>Skoda Rapid 1.5 TDI Ambition</td>\n",
       "      <td>Skoda</td>\n",
       "      <td>2014</td>\n",
       "      <td>370000</td>\n",
       "      <td>120000</td>\n",
       "      <td>Diesel</td>\n",
       "      <td>Individual</td>\n",
       "      <td>Manual</td>\n",
       "      <td>Second Owner</td>\n",
       "      <td>21.14 kmpl</td>\n",
       "      <td>1498 CC</td>\n",
       "      <td>103.52 bhp</td>\n",
       "      <td>250Nm@ 1500-2500rpm</td>\n",
       "      <td>5.0</td>\n",
       "    </tr>\n",
       "    <tr>\n",
       "      <th>2</th>\n",
       "      <td>Honda City 2017-2020 EXi</td>\n",
       "      <td>Honda</td>\n",
       "      <td>2006</td>\n",
       "      <td>158000</td>\n",
       "      <td>140000</td>\n",
       "      <td>Petrol</td>\n",
       "      <td>Individual</td>\n",
       "      <td>Manual</td>\n",
       "      <td>Third Owner</td>\n",
       "      <td>17.7 kmpl</td>\n",
       "      <td>1497 CC</td>\n",
       "      <td>78 bhp</td>\n",
       "      <td>12.7@ 2,700(kgm@ rpm)</td>\n",
       "      <td>5.0</td>\n",
       "    </tr>\n",
       "    <tr>\n",
       "      <th>3</th>\n",
       "      <td>Hyundai i20 Sportz Diesel</td>\n",
       "      <td>Hyundai</td>\n",
       "      <td>2010</td>\n",
       "      <td>225000</td>\n",
       "      <td>127000</td>\n",
       "      <td>Diesel</td>\n",
       "      <td>Individual</td>\n",
       "      <td>Manual</td>\n",
       "      <td>First Owner</td>\n",
       "      <td>23.0 kmpl</td>\n",
       "      <td>1396 CC</td>\n",
       "      <td>90 bhp</td>\n",
       "      <td>22.4 kgm at 1750-2750rpm</td>\n",
       "      <td>5.0</td>\n",
       "    </tr>\n",
       "    <tr>\n",
       "      <th>4</th>\n",
       "      <td>Maruti Swift VXI BSIII</td>\n",
       "      <td>Maruti</td>\n",
       "      <td>2007</td>\n",
       "      <td>130000</td>\n",
       "      <td>120000</td>\n",
       "      <td>Petrol</td>\n",
       "      <td>Individual</td>\n",
       "      <td>Manual</td>\n",
       "      <td>First Owner</td>\n",
       "      <td>16.1 kmpl</td>\n",
       "      <td>1298 CC</td>\n",
       "      <td>88.2 bhp</td>\n",
       "      <td>11.5@ 4,500(kgm@ rpm)</td>\n",
       "      <td>5.0</td>\n",
       "    </tr>\n",
       "  </tbody>\n",
       "</table>\n",
       "</div>"
      ],
      "text/plain": [
       "                           name    brand  year  selling_price  km_driven  \\\n",
       "0        Maruti Swift Dzire VDI   Maruti  2014         450000     145500   \n",
       "1  Skoda Rapid 1.5 TDI Ambition    Skoda  2014         370000     120000   \n",
       "2      Honda City 2017-2020 EXi    Honda  2006         158000     140000   \n",
       "3     Hyundai i20 Sportz Diesel  Hyundai  2010         225000     127000   \n",
       "4        Maruti Swift VXI BSIII   Maruti  2007         130000     120000   \n",
       "\n",
       "     fuel seller_type transmission         owner     mileage   engine  \\\n",
       "0  Diesel  Individual       Manual   First Owner   23.4 kmpl  1248 CC   \n",
       "1  Diesel  Individual       Manual  Second Owner  21.14 kmpl  1498 CC   \n",
       "2  Petrol  Individual       Manual   Third Owner   17.7 kmpl  1497 CC   \n",
       "3  Diesel  Individual       Manual   First Owner   23.0 kmpl  1396 CC   \n",
       "4  Petrol  Individual       Manual   First Owner   16.1 kmpl  1298 CC   \n",
       "\n",
       "    max_power                    torque  seats  \n",
       "0      74 bhp            190Nm@ 2000rpm    5.0  \n",
       "1  103.52 bhp       250Nm@ 1500-2500rpm    5.0  \n",
       "2      78 bhp     12.7@ 2,700(kgm@ rpm)    5.0  \n",
       "3      90 bhp  22.4 kgm at 1750-2750rpm    5.0  \n",
       "4    88.2 bhp     11.5@ 4,500(kgm@ rpm)    5.0  "
      ]
     },
     "execution_count": 88,
     "metadata": {},
     "output_type": "execute_result"
    }
   ],
   "source": [
    "df.head()"
   ]
  },
  {
   "cell_type": "code",
   "execution_count": 89,
   "id": "4fc1fb22",
   "metadata": {},
   "outputs": [
    {
     "data": {
      "text/plain": [
       "First Owner             5289\n",
       "Second Owner            2105\n",
       "Third Owner              555\n",
       "Fourth & Above Owner     174\n",
       "Test Drive Car             5\n",
       "Name: owner, dtype: int64"
      ]
     },
     "execution_count": 89,
     "metadata": {},
     "output_type": "execute_result"
    }
   ],
   "source": [
    "df['owner'].value_counts()"
   ]
  },
  {
   "cell_type": "code",
   "execution_count": 90,
   "id": "51fc5316",
   "metadata": {},
   "outputs": [
    {
     "data": {
      "text/plain": [
       "18.9 kmpl      225\n",
       "19.7 kmpl      173\n",
       "18.6 kmpl      164\n",
       "21.1 kmpl      157\n",
       "17.0 kmpl      133\n",
       "              ... \n",
       "16.34 kmpl       1\n",
       "19.69 kmpl       1\n",
       "20.88 km/kg      1\n",
       "17.8 km/kg       1\n",
       "16.51 kmpl       1\n",
       "Name: mileage, Length: 393, dtype: int64"
      ]
     },
     "execution_count": 90,
     "metadata": {},
     "output_type": "execute_result"
    }
   ],
   "source": [
    "df['mileage'].value_counts()"
   ]
  },
  {
   "cell_type": "code",
   "execution_count": 91,
   "id": "78d766bc",
   "metadata": {},
   "outputs": [
    {
     "data": {
      "text/plain": [
       "Individual          6766\n",
       "Dealer              1126\n",
       "Trustmark Dealer     236\n",
       "Name: seller_type, dtype: int64"
      ]
     },
     "execution_count": 91,
     "metadata": {},
     "output_type": "execute_result"
    }
   ],
   "source": [
    "df['seller_type'].value_counts()"
   ]
  },
  {
   "cell_type": "code",
   "execution_count": 92,
   "id": "72625d86",
   "metadata": {},
   "outputs": [
    {
     "data": {
      "text/plain": [
       "1248 CC    1017\n",
       "1197 CC     832\n",
       "998 CC      453\n",
       "796 CC      444\n",
       "2179 CC     389\n",
       "           ... \n",
       "2835 CC       1\n",
       "1489 CC       1\n",
       "1422 CC       1\n",
       "2496 CC       1\n",
       "1950 CC       1\n",
       "Name: engine, Length: 121, dtype: int64"
      ]
     },
     "execution_count": 92,
     "metadata": {},
     "output_type": "execute_result"
    }
   ],
   "source": [
    "df['engine'].value_counts()"
   ]
  },
  {
   "cell_type": "code",
   "execution_count": 93,
   "id": "6f9dabb2",
   "metadata": {},
   "outputs": [
    {
     "data": {
      "text/plain": [
       "Manual       7078\n",
       "Automatic    1050\n",
       "Name: transmission, dtype: int64"
      ]
     },
     "execution_count": 93,
     "metadata": {},
     "output_type": "execute_result"
    }
   ],
   "source": [
    "df['transmission'].value_counts()"
   ]
  },
  {
   "cell_type": "code",
   "execution_count": 94,
   "id": "614757f5",
   "metadata": {},
   "outputs": [
    {
     "data": {
      "text/plain": [
       "74 bhp       377\n",
       "81.80 bhp    220\n",
       "88.5 bhp     204\n",
       "67 bhp       165\n",
       "46.3 bhp     162\n",
       "            ... \n",
       "203.2 bhp      1\n",
       "175 bhp        1\n",
       "57 bhp         1\n",
       "80.84 bhp      1\n",
       "135.1 bhp      1\n",
       "Name: max_power, Length: 322, dtype: int64"
      ]
     },
     "execution_count": 94,
     "metadata": {},
     "output_type": "execute_result"
    }
   ],
   "source": [
    "df['max_power'].value_counts()"
   ]
  },
  {
   "cell_type": "code",
   "execution_count": 95,
   "id": "eaeecee5",
   "metadata": {},
   "outputs": [],
   "source": [
    "#cl1 : getting rid of units\n",
    "spec_chars = [\"kmpl\",'km/kg']\n",
    "for char in spec_chars:\n",
    "    df['mileage'] = df['mileage'].str.replace(char, '')"
   ]
  },
  {
   "cell_type": "code",
   "execution_count": 96,
   "id": "4bc85e0c",
   "metadata": {},
   "outputs": [
    {
     "data": {
      "text/html": [
       "<div>\n",
       "<style scoped>\n",
       "    .dataframe tbody tr th:only-of-type {\n",
       "        vertical-align: middle;\n",
       "    }\n",
       "\n",
       "    .dataframe tbody tr th {\n",
       "        vertical-align: top;\n",
       "    }\n",
       "\n",
       "    .dataframe thead th {\n",
       "        text-align: right;\n",
       "    }\n",
       "</style>\n",
       "<table border=\"1\" class=\"dataframe\">\n",
       "  <thead>\n",
       "    <tr style=\"text-align: right;\">\n",
       "      <th></th>\n",
       "      <th>name</th>\n",
       "      <th>brand</th>\n",
       "      <th>year</th>\n",
       "      <th>selling_price</th>\n",
       "      <th>km_driven</th>\n",
       "      <th>fuel</th>\n",
       "      <th>seller_type</th>\n",
       "      <th>transmission</th>\n",
       "      <th>owner</th>\n",
       "      <th>mileage</th>\n",
       "      <th>engine</th>\n",
       "      <th>max_power</th>\n",
       "      <th>torque</th>\n",
       "      <th>seats</th>\n",
       "    </tr>\n",
       "  </thead>\n",
       "  <tbody>\n",
       "    <tr>\n",
       "      <th>0</th>\n",
       "      <td>Maruti Swift Dzire VDI</td>\n",
       "      <td>Maruti</td>\n",
       "      <td>2014</td>\n",
       "      <td>450000</td>\n",
       "      <td>145500</td>\n",
       "      <td>Diesel</td>\n",
       "      <td>Individual</td>\n",
       "      <td>Manual</td>\n",
       "      <td>First Owner</td>\n",
       "      <td>23.4</td>\n",
       "      <td>1248 CC</td>\n",
       "      <td>74 bhp</td>\n",
       "      <td>190Nm@ 2000rpm</td>\n",
       "      <td>5.0</td>\n",
       "    </tr>\n",
       "    <tr>\n",
       "      <th>1</th>\n",
       "      <td>Skoda Rapid 1.5 TDI Ambition</td>\n",
       "      <td>Skoda</td>\n",
       "      <td>2014</td>\n",
       "      <td>370000</td>\n",
       "      <td>120000</td>\n",
       "      <td>Diesel</td>\n",
       "      <td>Individual</td>\n",
       "      <td>Manual</td>\n",
       "      <td>Second Owner</td>\n",
       "      <td>21.14</td>\n",
       "      <td>1498 CC</td>\n",
       "      <td>103.52 bhp</td>\n",
       "      <td>250Nm@ 1500-2500rpm</td>\n",
       "      <td>5.0</td>\n",
       "    </tr>\n",
       "    <tr>\n",
       "      <th>2</th>\n",
       "      <td>Honda City 2017-2020 EXi</td>\n",
       "      <td>Honda</td>\n",
       "      <td>2006</td>\n",
       "      <td>158000</td>\n",
       "      <td>140000</td>\n",
       "      <td>Petrol</td>\n",
       "      <td>Individual</td>\n",
       "      <td>Manual</td>\n",
       "      <td>Third Owner</td>\n",
       "      <td>17.7</td>\n",
       "      <td>1497 CC</td>\n",
       "      <td>78 bhp</td>\n",
       "      <td>12.7@ 2,700(kgm@ rpm)</td>\n",
       "      <td>5.0</td>\n",
       "    </tr>\n",
       "    <tr>\n",
       "      <th>3</th>\n",
       "      <td>Hyundai i20 Sportz Diesel</td>\n",
       "      <td>Hyundai</td>\n",
       "      <td>2010</td>\n",
       "      <td>225000</td>\n",
       "      <td>127000</td>\n",
       "      <td>Diesel</td>\n",
       "      <td>Individual</td>\n",
       "      <td>Manual</td>\n",
       "      <td>First Owner</td>\n",
       "      <td>23.0</td>\n",
       "      <td>1396 CC</td>\n",
       "      <td>90 bhp</td>\n",
       "      <td>22.4 kgm at 1750-2750rpm</td>\n",
       "      <td>5.0</td>\n",
       "    </tr>\n",
       "    <tr>\n",
       "      <th>4</th>\n",
       "      <td>Maruti Swift VXI BSIII</td>\n",
       "      <td>Maruti</td>\n",
       "      <td>2007</td>\n",
       "      <td>130000</td>\n",
       "      <td>120000</td>\n",
       "      <td>Petrol</td>\n",
       "      <td>Individual</td>\n",
       "      <td>Manual</td>\n",
       "      <td>First Owner</td>\n",
       "      <td>16.1</td>\n",
       "      <td>1298 CC</td>\n",
       "      <td>88.2 bhp</td>\n",
       "      <td>11.5@ 4,500(kgm@ rpm)</td>\n",
       "      <td>5.0</td>\n",
       "    </tr>\n",
       "    <tr>\n",
       "      <th>5</th>\n",
       "      <td>Hyundai Xcent 1.2 VTVT E Plus</td>\n",
       "      <td>Hyundai</td>\n",
       "      <td>2017</td>\n",
       "      <td>440000</td>\n",
       "      <td>45000</td>\n",
       "      <td>Petrol</td>\n",
       "      <td>Individual</td>\n",
       "      <td>Manual</td>\n",
       "      <td>First Owner</td>\n",
       "      <td>20.14</td>\n",
       "      <td>1197 CC</td>\n",
       "      <td>81.86 bhp</td>\n",
       "      <td>113.75nm@ 4000rpm</td>\n",
       "      <td>5.0</td>\n",
       "    </tr>\n",
       "    <tr>\n",
       "      <th>6</th>\n",
       "      <td>Maruti Wagon R LXI DUO BSIII</td>\n",
       "      <td>Maruti</td>\n",
       "      <td>2007</td>\n",
       "      <td>96000</td>\n",
       "      <td>175000</td>\n",
       "      <td>LPG</td>\n",
       "      <td>Individual</td>\n",
       "      <td>Manual</td>\n",
       "      <td>First Owner</td>\n",
       "      <td>17.3</td>\n",
       "      <td>1061 CC</td>\n",
       "      <td>57.5 bhp</td>\n",
       "      <td>7.8@ 4,500(kgm@ rpm)</td>\n",
       "      <td>5.0</td>\n",
       "    </tr>\n",
       "    <tr>\n",
       "      <th>7</th>\n",
       "      <td>Maruti 800 DX BSII</td>\n",
       "      <td>Maruti</td>\n",
       "      <td>2001</td>\n",
       "      <td>45000</td>\n",
       "      <td>5000</td>\n",
       "      <td>Petrol</td>\n",
       "      <td>Individual</td>\n",
       "      <td>Manual</td>\n",
       "      <td>Second Owner</td>\n",
       "      <td>16.1</td>\n",
       "      <td>796 CC</td>\n",
       "      <td>37 bhp</td>\n",
       "      <td>59Nm@ 2500rpm</td>\n",
       "      <td>4.0</td>\n",
       "    </tr>\n",
       "    <tr>\n",
       "      <th>8</th>\n",
       "      <td>Toyota Etios VXD</td>\n",
       "      <td>Toyota</td>\n",
       "      <td>2011</td>\n",
       "      <td>350000</td>\n",
       "      <td>90000</td>\n",
       "      <td>Diesel</td>\n",
       "      <td>Individual</td>\n",
       "      <td>Manual</td>\n",
       "      <td>First Owner</td>\n",
       "      <td>23.59</td>\n",
       "      <td>1364 CC</td>\n",
       "      <td>67.1 bhp</td>\n",
       "      <td>170Nm@ 1800-2400rpm</td>\n",
       "      <td>5.0</td>\n",
       "    </tr>\n",
       "    <tr>\n",
       "      <th>9</th>\n",
       "      <td>Ford Figo Diesel Celebration Edition</td>\n",
       "      <td>Ford</td>\n",
       "      <td>2013</td>\n",
       "      <td>200000</td>\n",
       "      <td>169000</td>\n",
       "      <td>Diesel</td>\n",
       "      <td>Individual</td>\n",
       "      <td>Manual</td>\n",
       "      <td>First Owner</td>\n",
       "      <td>20.0</td>\n",
       "      <td>1399 CC</td>\n",
       "      <td>68.1 bhp</td>\n",
       "      <td>160Nm@ 2000rpm</td>\n",
       "      <td>5.0</td>\n",
       "    </tr>\n",
       "  </tbody>\n",
       "</table>\n",
       "</div>"
      ],
      "text/plain": [
       "                                   name    brand  year  selling_price  \\\n",
       "0                Maruti Swift Dzire VDI   Maruti  2014         450000   \n",
       "1          Skoda Rapid 1.5 TDI Ambition    Skoda  2014         370000   \n",
       "2              Honda City 2017-2020 EXi    Honda  2006         158000   \n",
       "3             Hyundai i20 Sportz Diesel  Hyundai  2010         225000   \n",
       "4                Maruti Swift VXI BSIII   Maruti  2007         130000   \n",
       "5         Hyundai Xcent 1.2 VTVT E Plus  Hyundai  2017         440000   \n",
       "6          Maruti Wagon R LXI DUO BSIII   Maruti  2007          96000   \n",
       "7                    Maruti 800 DX BSII   Maruti  2001          45000   \n",
       "8                      Toyota Etios VXD   Toyota  2011         350000   \n",
       "9  Ford Figo Diesel Celebration Edition     Ford  2013         200000   \n",
       "\n",
       "   km_driven    fuel seller_type transmission         owner mileage   engine  \\\n",
       "0     145500  Diesel  Individual       Manual   First Owner   23.4   1248 CC   \n",
       "1     120000  Diesel  Individual       Manual  Second Owner  21.14   1498 CC   \n",
       "2     140000  Petrol  Individual       Manual   Third Owner   17.7   1497 CC   \n",
       "3     127000  Diesel  Individual       Manual   First Owner   23.0   1396 CC   \n",
       "4     120000  Petrol  Individual       Manual   First Owner   16.1   1298 CC   \n",
       "5      45000  Petrol  Individual       Manual   First Owner  20.14   1197 CC   \n",
       "6     175000     LPG  Individual       Manual   First Owner   17.3   1061 CC   \n",
       "7       5000  Petrol  Individual       Manual  Second Owner   16.1    796 CC   \n",
       "8      90000  Diesel  Individual       Manual   First Owner  23.59   1364 CC   \n",
       "9     169000  Diesel  Individual       Manual   First Owner   20.0   1399 CC   \n",
       "\n",
       "    max_power                    torque  seats  \n",
       "0      74 bhp            190Nm@ 2000rpm    5.0  \n",
       "1  103.52 bhp       250Nm@ 1500-2500rpm    5.0  \n",
       "2      78 bhp     12.7@ 2,700(kgm@ rpm)    5.0  \n",
       "3      90 bhp  22.4 kgm at 1750-2750rpm    5.0  \n",
       "4    88.2 bhp     11.5@ 4,500(kgm@ rpm)    5.0  \n",
       "5   81.86 bhp         113.75nm@ 4000rpm    5.0  \n",
       "6    57.5 bhp      7.8@ 4,500(kgm@ rpm)    5.0  \n",
       "7      37 bhp             59Nm@ 2500rpm    4.0  \n",
       "8    67.1 bhp       170Nm@ 1800-2400rpm    5.0  \n",
       "9    68.1 bhp            160Nm@ 2000rpm    5.0  "
      ]
     },
     "execution_count": 96,
     "metadata": {},
     "output_type": "execute_result"
    }
   ],
   "source": [
    "df.head(10)"
   ]
  },
  {
   "cell_type": "code",
   "execution_count": 97,
   "id": "6b41cec3",
   "metadata": {},
   "outputs": [],
   "source": [
    "#cl2 :\n",
    "spec_chars = [\"bhp\"]\n",
    "for char in spec_chars:\n",
    "    df['max_power'] = df['max_power'].str.replace(char, '')"
   ]
  },
  {
   "cell_type": "code",
   "execution_count": 98,
   "id": "23e538f1",
   "metadata": {},
   "outputs": [
    {
     "data": {
      "text/html": [
       "<div>\n",
       "<style scoped>\n",
       "    .dataframe tbody tr th:only-of-type {\n",
       "        vertical-align: middle;\n",
       "    }\n",
       "\n",
       "    .dataframe tbody tr th {\n",
       "        vertical-align: top;\n",
       "    }\n",
       "\n",
       "    .dataframe thead th {\n",
       "        text-align: right;\n",
       "    }\n",
       "</style>\n",
       "<table border=\"1\" class=\"dataframe\">\n",
       "  <thead>\n",
       "    <tr style=\"text-align: right;\">\n",
       "      <th></th>\n",
       "      <th>name</th>\n",
       "      <th>brand</th>\n",
       "      <th>year</th>\n",
       "      <th>selling_price</th>\n",
       "      <th>km_driven</th>\n",
       "      <th>fuel</th>\n",
       "      <th>seller_type</th>\n",
       "      <th>transmission</th>\n",
       "      <th>owner</th>\n",
       "      <th>mileage</th>\n",
       "      <th>engine</th>\n",
       "      <th>max_power</th>\n",
       "      <th>torque</th>\n",
       "      <th>seats</th>\n",
       "    </tr>\n",
       "  </thead>\n",
       "  <tbody>\n",
       "    <tr>\n",
       "      <th>0</th>\n",
       "      <td>Maruti Swift Dzire VDI</td>\n",
       "      <td>Maruti</td>\n",
       "      <td>2014</td>\n",
       "      <td>450000</td>\n",
       "      <td>145500</td>\n",
       "      <td>Diesel</td>\n",
       "      <td>Individual</td>\n",
       "      <td>Manual</td>\n",
       "      <td>First Owner</td>\n",
       "      <td>23.4</td>\n",
       "      <td>1248 CC</td>\n",
       "      <td>74</td>\n",
       "      <td>190Nm@ 2000rpm</td>\n",
       "      <td>5.0</td>\n",
       "    </tr>\n",
       "    <tr>\n",
       "      <th>1</th>\n",
       "      <td>Skoda Rapid 1.5 TDI Ambition</td>\n",
       "      <td>Skoda</td>\n",
       "      <td>2014</td>\n",
       "      <td>370000</td>\n",
       "      <td>120000</td>\n",
       "      <td>Diesel</td>\n",
       "      <td>Individual</td>\n",
       "      <td>Manual</td>\n",
       "      <td>Second Owner</td>\n",
       "      <td>21.14</td>\n",
       "      <td>1498 CC</td>\n",
       "      <td>103.52</td>\n",
       "      <td>250Nm@ 1500-2500rpm</td>\n",
       "      <td>5.0</td>\n",
       "    </tr>\n",
       "    <tr>\n",
       "      <th>2</th>\n",
       "      <td>Honda City 2017-2020 EXi</td>\n",
       "      <td>Honda</td>\n",
       "      <td>2006</td>\n",
       "      <td>158000</td>\n",
       "      <td>140000</td>\n",
       "      <td>Petrol</td>\n",
       "      <td>Individual</td>\n",
       "      <td>Manual</td>\n",
       "      <td>Third Owner</td>\n",
       "      <td>17.7</td>\n",
       "      <td>1497 CC</td>\n",
       "      <td>78</td>\n",
       "      <td>12.7@ 2,700(kgm@ rpm)</td>\n",
       "      <td>5.0</td>\n",
       "    </tr>\n",
       "    <tr>\n",
       "      <th>3</th>\n",
       "      <td>Hyundai i20 Sportz Diesel</td>\n",
       "      <td>Hyundai</td>\n",
       "      <td>2010</td>\n",
       "      <td>225000</td>\n",
       "      <td>127000</td>\n",
       "      <td>Diesel</td>\n",
       "      <td>Individual</td>\n",
       "      <td>Manual</td>\n",
       "      <td>First Owner</td>\n",
       "      <td>23.0</td>\n",
       "      <td>1396 CC</td>\n",
       "      <td>90</td>\n",
       "      <td>22.4 kgm at 1750-2750rpm</td>\n",
       "      <td>5.0</td>\n",
       "    </tr>\n",
       "    <tr>\n",
       "      <th>4</th>\n",
       "      <td>Maruti Swift VXI BSIII</td>\n",
       "      <td>Maruti</td>\n",
       "      <td>2007</td>\n",
       "      <td>130000</td>\n",
       "      <td>120000</td>\n",
       "      <td>Petrol</td>\n",
       "      <td>Individual</td>\n",
       "      <td>Manual</td>\n",
       "      <td>First Owner</td>\n",
       "      <td>16.1</td>\n",
       "      <td>1298 CC</td>\n",
       "      <td>88.2</td>\n",
       "      <td>11.5@ 4,500(kgm@ rpm)</td>\n",
       "      <td>5.0</td>\n",
       "    </tr>\n",
       "    <tr>\n",
       "      <th>5</th>\n",
       "      <td>Hyundai Xcent 1.2 VTVT E Plus</td>\n",
       "      <td>Hyundai</td>\n",
       "      <td>2017</td>\n",
       "      <td>440000</td>\n",
       "      <td>45000</td>\n",
       "      <td>Petrol</td>\n",
       "      <td>Individual</td>\n",
       "      <td>Manual</td>\n",
       "      <td>First Owner</td>\n",
       "      <td>20.14</td>\n",
       "      <td>1197 CC</td>\n",
       "      <td>81.86</td>\n",
       "      <td>113.75nm@ 4000rpm</td>\n",
       "      <td>5.0</td>\n",
       "    </tr>\n",
       "    <tr>\n",
       "      <th>6</th>\n",
       "      <td>Maruti Wagon R LXI DUO BSIII</td>\n",
       "      <td>Maruti</td>\n",
       "      <td>2007</td>\n",
       "      <td>96000</td>\n",
       "      <td>175000</td>\n",
       "      <td>LPG</td>\n",
       "      <td>Individual</td>\n",
       "      <td>Manual</td>\n",
       "      <td>First Owner</td>\n",
       "      <td>17.3</td>\n",
       "      <td>1061 CC</td>\n",
       "      <td>57.5</td>\n",
       "      <td>7.8@ 4,500(kgm@ rpm)</td>\n",
       "      <td>5.0</td>\n",
       "    </tr>\n",
       "    <tr>\n",
       "      <th>7</th>\n",
       "      <td>Maruti 800 DX BSII</td>\n",
       "      <td>Maruti</td>\n",
       "      <td>2001</td>\n",
       "      <td>45000</td>\n",
       "      <td>5000</td>\n",
       "      <td>Petrol</td>\n",
       "      <td>Individual</td>\n",
       "      <td>Manual</td>\n",
       "      <td>Second Owner</td>\n",
       "      <td>16.1</td>\n",
       "      <td>796 CC</td>\n",
       "      <td>37</td>\n",
       "      <td>59Nm@ 2500rpm</td>\n",
       "      <td>4.0</td>\n",
       "    </tr>\n",
       "    <tr>\n",
       "      <th>8</th>\n",
       "      <td>Toyota Etios VXD</td>\n",
       "      <td>Toyota</td>\n",
       "      <td>2011</td>\n",
       "      <td>350000</td>\n",
       "      <td>90000</td>\n",
       "      <td>Diesel</td>\n",
       "      <td>Individual</td>\n",
       "      <td>Manual</td>\n",
       "      <td>First Owner</td>\n",
       "      <td>23.59</td>\n",
       "      <td>1364 CC</td>\n",
       "      <td>67.1</td>\n",
       "      <td>170Nm@ 1800-2400rpm</td>\n",
       "      <td>5.0</td>\n",
       "    </tr>\n",
       "    <tr>\n",
       "      <th>9</th>\n",
       "      <td>Ford Figo Diesel Celebration Edition</td>\n",
       "      <td>Ford</td>\n",
       "      <td>2013</td>\n",
       "      <td>200000</td>\n",
       "      <td>169000</td>\n",
       "      <td>Diesel</td>\n",
       "      <td>Individual</td>\n",
       "      <td>Manual</td>\n",
       "      <td>First Owner</td>\n",
       "      <td>20.0</td>\n",
       "      <td>1399 CC</td>\n",
       "      <td>68.1</td>\n",
       "      <td>160Nm@ 2000rpm</td>\n",
       "      <td>5.0</td>\n",
       "    </tr>\n",
       "  </tbody>\n",
       "</table>\n",
       "</div>"
      ],
      "text/plain": [
       "                                   name    brand  year  selling_price  \\\n",
       "0                Maruti Swift Dzire VDI   Maruti  2014         450000   \n",
       "1          Skoda Rapid 1.5 TDI Ambition    Skoda  2014         370000   \n",
       "2              Honda City 2017-2020 EXi    Honda  2006         158000   \n",
       "3             Hyundai i20 Sportz Diesel  Hyundai  2010         225000   \n",
       "4                Maruti Swift VXI BSIII   Maruti  2007         130000   \n",
       "5         Hyundai Xcent 1.2 VTVT E Plus  Hyundai  2017         440000   \n",
       "6          Maruti Wagon R LXI DUO BSIII   Maruti  2007          96000   \n",
       "7                    Maruti 800 DX BSII   Maruti  2001          45000   \n",
       "8                      Toyota Etios VXD   Toyota  2011         350000   \n",
       "9  Ford Figo Diesel Celebration Edition     Ford  2013         200000   \n",
       "\n",
       "   km_driven    fuel seller_type transmission         owner mileage   engine  \\\n",
       "0     145500  Diesel  Individual       Manual   First Owner   23.4   1248 CC   \n",
       "1     120000  Diesel  Individual       Manual  Second Owner  21.14   1498 CC   \n",
       "2     140000  Petrol  Individual       Manual   Third Owner   17.7   1497 CC   \n",
       "3     127000  Diesel  Individual       Manual   First Owner   23.0   1396 CC   \n",
       "4     120000  Petrol  Individual       Manual   First Owner   16.1   1298 CC   \n",
       "5      45000  Petrol  Individual       Manual   First Owner  20.14   1197 CC   \n",
       "6     175000     LPG  Individual       Manual   First Owner   17.3   1061 CC   \n",
       "7       5000  Petrol  Individual       Manual  Second Owner   16.1    796 CC   \n",
       "8      90000  Diesel  Individual       Manual   First Owner  23.59   1364 CC   \n",
       "9     169000  Diesel  Individual       Manual   First Owner   20.0   1399 CC   \n",
       "\n",
       "  max_power                    torque  seats  \n",
       "0       74             190Nm@ 2000rpm    5.0  \n",
       "1   103.52        250Nm@ 1500-2500rpm    5.0  \n",
       "2       78      12.7@ 2,700(kgm@ rpm)    5.0  \n",
       "3       90   22.4 kgm at 1750-2750rpm    5.0  \n",
       "4     88.2      11.5@ 4,500(kgm@ rpm)    5.0  \n",
       "5    81.86          113.75nm@ 4000rpm    5.0  \n",
       "6     57.5       7.8@ 4,500(kgm@ rpm)    5.0  \n",
       "7       37              59Nm@ 2500rpm    4.0  \n",
       "8     67.1        170Nm@ 1800-2400rpm    5.0  \n",
       "9     68.1             160Nm@ 2000rpm    5.0  "
      ]
     },
     "execution_count": 98,
     "metadata": {},
     "output_type": "execute_result"
    }
   ],
   "source": [
    "df.head(10)"
   ]
  },
  {
   "cell_type": "code",
   "execution_count": 99,
   "id": "50408aa6",
   "metadata": {},
   "outputs": [],
   "source": [
    "#cl3\n",
    "spec_chars = [\"CC\"]\n",
    "for char in spec_chars:\n",
    "    df['engine'] = df['engine'].str.replace(char, '')"
   ]
  },
  {
   "cell_type": "code",
   "execution_count": 100,
   "id": "64d421d3",
   "metadata": {},
   "outputs": [
    {
     "data": {
      "text/html": [
       "<div>\n",
       "<style scoped>\n",
       "    .dataframe tbody tr th:only-of-type {\n",
       "        vertical-align: middle;\n",
       "    }\n",
       "\n",
       "    .dataframe tbody tr th {\n",
       "        vertical-align: top;\n",
       "    }\n",
       "\n",
       "    .dataframe thead th {\n",
       "        text-align: right;\n",
       "    }\n",
       "</style>\n",
       "<table border=\"1\" class=\"dataframe\">\n",
       "  <thead>\n",
       "    <tr style=\"text-align: right;\">\n",
       "      <th></th>\n",
       "      <th>name</th>\n",
       "      <th>brand</th>\n",
       "      <th>year</th>\n",
       "      <th>selling_price</th>\n",
       "      <th>km_driven</th>\n",
       "      <th>fuel</th>\n",
       "      <th>seller_type</th>\n",
       "      <th>transmission</th>\n",
       "      <th>owner</th>\n",
       "      <th>mileage</th>\n",
       "      <th>engine</th>\n",
       "      <th>max_power</th>\n",
       "      <th>torque</th>\n",
       "      <th>seats</th>\n",
       "    </tr>\n",
       "  </thead>\n",
       "  <tbody>\n",
       "    <tr>\n",
       "      <th>0</th>\n",
       "      <td>Maruti Swift Dzire VDI</td>\n",
       "      <td>Maruti</td>\n",
       "      <td>2014</td>\n",
       "      <td>450000</td>\n",
       "      <td>145500</td>\n",
       "      <td>Diesel</td>\n",
       "      <td>Individual</td>\n",
       "      <td>Manual</td>\n",
       "      <td>First Owner</td>\n",
       "      <td>23.4</td>\n",
       "      <td>1248</td>\n",
       "      <td>74</td>\n",
       "      <td>190Nm@ 2000rpm</td>\n",
       "      <td>5.0</td>\n",
       "    </tr>\n",
       "    <tr>\n",
       "      <th>1</th>\n",
       "      <td>Skoda Rapid 1.5 TDI Ambition</td>\n",
       "      <td>Skoda</td>\n",
       "      <td>2014</td>\n",
       "      <td>370000</td>\n",
       "      <td>120000</td>\n",
       "      <td>Diesel</td>\n",
       "      <td>Individual</td>\n",
       "      <td>Manual</td>\n",
       "      <td>Second Owner</td>\n",
       "      <td>21.14</td>\n",
       "      <td>1498</td>\n",
       "      <td>103.52</td>\n",
       "      <td>250Nm@ 1500-2500rpm</td>\n",
       "      <td>5.0</td>\n",
       "    </tr>\n",
       "    <tr>\n",
       "      <th>2</th>\n",
       "      <td>Honda City 2017-2020 EXi</td>\n",
       "      <td>Honda</td>\n",
       "      <td>2006</td>\n",
       "      <td>158000</td>\n",
       "      <td>140000</td>\n",
       "      <td>Petrol</td>\n",
       "      <td>Individual</td>\n",
       "      <td>Manual</td>\n",
       "      <td>Third Owner</td>\n",
       "      <td>17.7</td>\n",
       "      <td>1497</td>\n",
       "      <td>78</td>\n",
       "      <td>12.7@ 2,700(kgm@ rpm)</td>\n",
       "      <td>5.0</td>\n",
       "    </tr>\n",
       "    <tr>\n",
       "      <th>3</th>\n",
       "      <td>Hyundai i20 Sportz Diesel</td>\n",
       "      <td>Hyundai</td>\n",
       "      <td>2010</td>\n",
       "      <td>225000</td>\n",
       "      <td>127000</td>\n",
       "      <td>Diesel</td>\n",
       "      <td>Individual</td>\n",
       "      <td>Manual</td>\n",
       "      <td>First Owner</td>\n",
       "      <td>23.0</td>\n",
       "      <td>1396</td>\n",
       "      <td>90</td>\n",
       "      <td>22.4 kgm at 1750-2750rpm</td>\n",
       "      <td>5.0</td>\n",
       "    </tr>\n",
       "    <tr>\n",
       "      <th>4</th>\n",
       "      <td>Maruti Swift VXI BSIII</td>\n",
       "      <td>Maruti</td>\n",
       "      <td>2007</td>\n",
       "      <td>130000</td>\n",
       "      <td>120000</td>\n",
       "      <td>Petrol</td>\n",
       "      <td>Individual</td>\n",
       "      <td>Manual</td>\n",
       "      <td>First Owner</td>\n",
       "      <td>16.1</td>\n",
       "      <td>1298</td>\n",
       "      <td>88.2</td>\n",
       "      <td>11.5@ 4,500(kgm@ rpm)</td>\n",
       "      <td>5.0</td>\n",
       "    </tr>\n",
       "  </tbody>\n",
       "</table>\n",
       "</div>"
      ],
      "text/plain": [
       "                           name    brand  year  selling_price  km_driven  \\\n",
       "0        Maruti Swift Dzire VDI   Maruti  2014         450000     145500   \n",
       "1  Skoda Rapid 1.5 TDI Ambition    Skoda  2014         370000     120000   \n",
       "2      Honda City 2017-2020 EXi    Honda  2006         158000     140000   \n",
       "3     Hyundai i20 Sportz Diesel  Hyundai  2010         225000     127000   \n",
       "4        Maruti Swift VXI BSIII   Maruti  2007         130000     120000   \n",
       "\n",
       "     fuel seller_type transmission         owner mileage engine max_power  \\\n",
       "0  Diesel  Individual       Manual   First Owner   23.4   1248        74    \n",
       "1  Diesel  Individual       Manual  Second Owner  21.14   1498    103.52    \n",
       "2  Petrol  Individual       Manual   Third Owner   17.7   1497        78    \n",
       "3  Diesel  Individual       Manual   First Owner   23.0   1396        90    \n",
       "4  Petrol  Individual       Manual   First Owner   16.1   1298      88.2    \n",
       "\n",
       "                     torque  seats  \n",
       "0            190Nm@ 2000rpm    5.0  \n",
       "1       250Nm@ 1500-2500rpm    5.0  \n",
       "2     12.7@ 2,700(kgm@ rpm)    5.0  \n",
       "3  22.4 kgm at 1750-2750rpm    5.0  \n",
       "4     11.5@ 4,500(kgm@ rpm)    5.0  "
      ]
     },
     "execution_count": 100,
     "metadata": {},
     "output_type": "execute_result"
    }
   ],
   "source": [
    "df.head()"
   ]
  },
  {
   "cell_type": "code",
   "execution_count": 101,
   "id": "ded16182",
   "metadata": {},
   "outputs": [
    {
     "data": {
      "text/html": [
       "<div>\n",
       "<style scoped>\n",
       "    .dataframe tbody tr th:only-of-type {\n",
       "        vertical-align: middle;\n",
       "    }\n",
       "\n",
       "    .dataframe tbody tr th {\n",
       "        vertical-align: top;\n",
       "    }\n",
       "\n",
       "    .dataframe thead th {\n",
       "        text-align: right;\n",
       "    }\n",
       "</style>\n",
       "<table border=\"1\" class=\"dataframe\">\n",
       "  <thead>\n",
       "    <tr style=\"text-align: right;\">\n",
       "      <th></th>\n",
       "      <th>brand</th>\n",
       "      <th>year</th>\n",
       "      <th>selling_price</th>\n",
       "      <th>km_driven</th>\n",
       "      <th>fuel</th>\n",
       "      <th>owner</th>\n",
       "      <th>mileage</th>\n",
       "      <th>engine</th>\n",
       "      <th>max_power</th>\n",
       "      <th>seats</th>\n",
       "    </tr>\n",
       "  </thead>\n",
       "  <tbody>\n",
       "    <tr>\n",
       "      <th>0</th>\n",
       "      <td>Maruti</td>\n",
       "      <td>2014</td>\n",
       "      <td>450000</td>\n",
       "      <td>145500</td>\n",
       "      <td>Diesel</td>\n",
       "      <td>First Owner</td>\n",
       "      <td>23.4</td>\n",
       "      <td>1248</td>\n",
       "      <td>74</td>\n",
       "      <td>5.0</td>\n",
       "    </tr>\n",
       "    <tr>\n",
       "      <th>1</th>\n",
       "      <td>Skoda</td>\n",
       "      <td>2014</td>\n",
       "      <td>370000</td>\n",
       "      <td>120000</td>\n",
       "      <td>Diesel</td>\n",
       "      <td>Second Owner</td>\n",
       "      <td>21.14</td>\n",
       "      <td>1498</td>\n",
       "      <td>103.52</td>\n",
       "      <td>5.0</td>\n",
       "    </tr>\n",
       "    <tr>\n",
       "      <th>2</th>\n",
       "      <td>Honda</td>\n",
       "      <td>2006</td>\n",
       "      <td>158000</td>\n",
       "      <td>140000</td>\n",
       "      <td>Petrol</td>\n",
       "      <td>Third Owner</td>\n",
       "      <td>17.7</td>\n",
       "      <td>1497</td>\n",
       "      <td>78</td>\n",
       "      <td>5.0</td>\n",
       "    </tr>\n",
       "    <tr>\n",
       "      <th>3</th>\n",
       "      <td>Hyundai</td>\n",
       "      <td>2010</td>\n",
       "      <td>225000</td>\n",
       "      <td>127000</td>\n",
       "      <td>Diesel</td>\n",
       "      <td>First Owner</td>\n",
       "      <td>23.0</td>\n",
       "      <td>1396</td>\n",
       "      <td>90</td>\n",
       "      <td>5.0</td>\n",
       "    </tr>\n",
       "    <tr>\n",
       "      <th>4</th>\n",
       "      <td>Maruti</td>\n",
       "      <td>2007</td>\n",
       "      <td>130000</td>\n",
       "      <td>120000</td>\n",
       "      <td>Petrol</td>\n",
       "      <td>First Owner</td>\n",
       "      <td>16.1</td>\n",
       "      <td>1298</td>\n",
       "      <td>88.2</td>\n",
       "      <td>5.0</td>\n",
       "    </tr>\n",
       "  </tbody>\n",
       "</table>\n",
       "</div>"
      ],
      "text/plain": [
       "     brand  year  selling_price  km_driven    fuel         owner mileage  \\\n",
       "0   Maruti  2014         450000     145500  Diesel   First Owner   23.4    \n",
       "1    Skoda  2014         370000     120000  Diesel  Second Owner  21.14    \n",
       "2    Honda  2006         158000     140000  Petrol   Third Owner   17.7    \n",
       "3  Hyundai  2010         225000     127000  Diesel   First Owner   23.0    \n",
       "4   Maruti  2007         130000     120000  Petrol   First Owner   16.1    \n",
       "\n",
       "  engine max_power  seats  \n",
       "0  1248        74     5.0  \n",
       "1  1498    103.52     5.0  \n",
       "2  1497        78     5.0  \n",
       "3  1396        90     5.0  \n",
       "4  1298      88.2     5.0  "
      ]
     },
     "execution_count": 101,
     "metadata": {},
     "output_type": "execute_result"
    }
   ],
   "source": [
    "\n",
    "df = df[[\"brand\",\"year\",\"selling_price\",\"km_driven\",\"fuel\",\"owner\",\"mileage\",\"engine\",\"max_power\",\"seats\"]]\n",
    "df.head()"
   ]
  },
  {
   "cell_type": "code",
   "execution_count": 102,
   "id": "a1e4f212",
   "metadata": {},
   "outputs": [
    {
     "data": {
      "text/html": [
       "<div>\n",
       "<style scoped>\n",
       "    .dataframe tbody tr th:only-of-type {\n",
       "        vertical-align: middle;\n",
       "    }\n",
       "\n",
       "    .dataframe tbody tr th {\n",
       "        vertical-align: top;\n",
       "    }\n",
       "\n",
       "    .dataframe thead th {\n",
       "        text-align: right;\n",
       "    }\n",
       "</style>\n",
       "<table border=\"1\" class=\"dataframe\">\n",
       "  <thead>\n",
       "    <tr style=\"text-align: right;\">\n",
       "      <th></th>\n",
       "      <th>brand</th>\n",
       "      <th>year</th>\n",
       "      <th>selling_price</th>\n",
       "      <th>km_driven</th>\n",
       "      <th>fuel</th>\n",
       "      <th>owner</th>\n",
       "      <th>mileage_kmpl</th>\n",
       "      <th>engine_CC</th>\n",
       "      <th>max_power_bhp</th>\n",
       "      <th>seats</th>\n",
       "    </tr>\n",
       "  </thead>\n",
       "  <tbody>\n",
       "    <tr>\n",
       "      <th>0</th>\n",
       "      <td>Maruti</td>\n",
       "      <td>2014</td>\n",
       "      <td>450000</td>\n",
       "      <td>145500</td>\n",
       "      <td>Diesel</td>\n",
       "      <td>First Owner</td>\n",
       "      <td>23.4</td>\n",
       "      <td>1248</td>\n",
       "      <td>74</td>\n",
       "      <td>5.0</td>\n",
       "    </tr>\n",
       "    <tr>\n",
       "      <th>1</th>\n",
       "      <td>Skoda</td>\n",
       "      <td>2014</td>\n",
       "      <td>370000</td>\n",
       "      <td>120000</td>\n",
       "      <td>Diesel</td>\n",
       "      <td>Second Owner</td>\n",
       "      <td>21.14</td>\n",
       "      <td>1498</td>\n",
       "      <td>103.52</td>\n",
       "      <td>5.0</td>\n",
       "    </tr>\n",
       "    <tr>\n",
       "      <th>2</th>\n",
       "      <td>Honda</td>\n",
       "      <td>2006</td>\n",
       "      <td>158000</td>\n",
       "      <td>140000</td>\n",
       "      <td>Petrol</td>\n",
       "      <td>Third Owner</td>\n",
       "      <td>17.7</td>\n",
       "      <td>1497</td>\n",
       "      <td>78</td>\n",
       "      <td>5.0</td>\n",
       "    </tr>\n",
       "    <tr>\n",
       "      <th>3</th>\n",
       "      <td>Hyundai</td>\n",
       "      <td>2010</td>\n",
       "      <td>225000</td>\n",
       "      <td>127000</td>\n",
       "      <td>Diesel</td>\n",
       "      <td>First Owner</td>\n",
       "      <td>23.0</td>\n",
       "      <td>1396</td>\n",
       "      <td>90</td>\n",
       "      <td>5.0</td>\n",
       "    </tr>\n",
       "    <tr>\n",
       "      <th>4</th>\n",
       "      <td>Maruti</td>\n",
       "      <td>2007</td>\n",
       "      <td>130000</td>\n",
       "      <td>120000</td>\n",
       "      <td>Petrol</td>\n",
       "      <td>First Owner</td>\n",
       "      <td>16.1</td>\n",
       "      <td>1298</td>\n",
       "      <td>88.2</td>\n",
       "      <td>5.0</td>\n",
       "    </tr>\n",
       "  </tbody>\n",
       "</table>\n",
       "</div>"
      ],
      "text/plain": [
       "     brand  year  selling_price  km_driven    fuel         owner mileage_kmpl  \\\n",
       "0   Maruti  2014         450000     145500  Diesel   First Owner        23.4    \n",
       "1    Skoda  2014         370000     120000  Diesel  Second Owner       21.14    \n",
       "2    Honda  2006         158000     140000  Petrol   Third Owner        17.7    \n",
       "3  Hyundai  2010         225000     127000  Diesel   First Owner        23.0    \n",
       "4   Maruti  2007         130000     120000  Petrol   First Owner        16.1    \n",
       "\n",
       "  engine_CC max_power_bhp  seats  \n",
       "0     1248            74     5.0  \n",
       "1     1498        103.52     5.0  \n",
       "2     1497            78     5.0  \n",
       "3     1396            90     5.0  \n",
       "4     1298          88.2     5.0  "
      ]
     },
     "execution_count": 102,
     "metadata": {},
     "output_type": "execute_result"
    }
   ],
   "source": [
    "df=df.rename({\"mileage\":\"mileage_kmpl\", \"engine\":\"engine_CC\",\"max_power\":\"max_power_bhp\"}, axis=1)\n",
    "df.head()"
   ]
  },
  {
   "cell_type": "code",
   "execution_count": 103,
   "id": "f321816c",
   "metadata": {},
   "outputs": [
    {
     "data": {
      "text/html": [
       "<div>\n",
       "<style scoped>\n",
       "    .dataframe tbody tr th:only-of-type {\n",
       "        vertical-align: middle;\n",
       "    }\n",
       "\n",
       "    .dataframe tbody tr th {\n",
       "        vertical-align: top;\n",
       "    }\n",
       "\n",
       "    .dataframe thead th {\n",
       "        text-align: right;\n",
       "    }\n",
       "</style>\n",
       "<table border=\"1\" class=\"dataframe\">\n",
       "  <thead>\n",
       "    <tr style=\"text-align: right;\">\n",
       "      <th></th>\n",
       "      <th>brand</th>\n",
       "      <th>year</th>\n",
       "      <th>selling_price</th>\n",
       "      <th>km_driven</th>\n",
       "      <th>fuel</th>\n",
       "      <th>owner</th>\n",
       "      <th>mileage_kmpl</th>\n",
       "      <th>engine_CC</th>\n",
       "      <th>max_power_bhp</th>\n",
       "      <th>seats</th>\n",
       "    </tr>\n",
       "  </thead>\n",
       "  <tbody>\n",
       "    <tr>\n",
       "      <th>0</th>\n",
       "      <td>Maruti</td>\n",
       "      <td>2014</td>\n",
       "      <td>450000</td>\n",
       "      <td>145500</td>\n",
       "      <td>Diesel</td>\n",
       "      <td>First Owner</td>\n",
       "      <td>23.4</td>\n",
       "      <td>1248</td>\n",
       "      <td>74</td>\n",
       "      <td>5.0</td>\n",
       "    </tr>\n",
       "    <tr>\n",
       "      <th>1</th>\n",
       "      <td>Skoda</td>\n",
       "      <td>2014</td>\n",
       "      <td>370000</td>\n",
       "      <td>120000</td>\n",
       "      <td>Diesel</td>\n",
       "      <td>Second Owner</td>\n",
       "      <td>21.14</td>\n",
       "      <td>1498</td>\n",
       "      <td>103.52</td>\n",
       "      <td>5.0</td>\n",
       "    </tr>\n",
       "    <tr>\n",
       "      <th>2</th>\n",
       "      <td>Honda</td>\n",
       "      <td>2006</td>\n",
       "      <td>158000</td>\n",
       "      <td>140000</td>\n",
       "      <td>Petrol</td>\n",
       "      <td>Third Owner</td>\n",
       "      <td>17.7</td>\n",
       "      <td>1497</td>\n",
       "      <td>78</td>\n",
       "      <td>5.0</td>\n",
       "    </tr>\n",
       "    <tr>\n",
       "      <th>3</th>\n",
       "      <td>Hyundai</td>\n",
       "      <td>2010</td>\n",
       "      <td>225000</td>\n",
       "      <td>127000</td>\n",
       "      <td>Diesel</td>\n",
       "      <td>First Owner</td>\n",
       "      <td>23.0</td>\n",
       "      <td>1396</td>\n",
       "      <td>90</td>\n",
       "      <td>5.0</td>\n",
       "    </tr>\n",
       "    <tr>\n",
       "      <th>4</th>\n",
       "      <td>Maruti</td>\n",
       "      <td>2007</td>\n",
       "      <td>130000</td>\n",
       "      <td>120000</td>\n",
       "      <td>Petrol</td>\n",
       "      <td>First Owner</td>\n",
       "      <td>16.1</td>\n",
       "      <td>1298</td>\n",
       "      <td>88.2</td>\n",
       "      <td>5.0</td>\n",
       "    </tr>\n",
       "    <tr>\n",
       "      <th>...</th>\n",
       "      <td>...</td>\n",
       "      <td>...</td>\n",
       "      <td>...</td>\n",
       "      <td>...</td>\n",
       "      <td>...</td>\n",
       "      <td>...</td>\n",
       "      <td>...</td>\n",
       "      <td>...</td>\n",
       "      <td>...</td>\n",
       "      <td>...</td>\n",
       "    </tr>\n",
       "    <tr>\n",
       "      <th>8123</th>\n",
       "      <td>Hyundai</td>\n",
       "      <td>2013</td>\n",
       "      <td>320000</td>\n",
       "      <td>110000</td>\n",
       "      <td>Petrol</td>\n",
       "      <td>First Owner</td>\n",
       "      <td>18.5</td>\n",
       "      <td>1197</td>\n",
       "      <td>82.85</td>\n",
       "      <td>5.0</td>\n",
       "    </tr>\n",
       "    <tr>\n",
       "      <th>8124</th>\n",
       "      <td>Hyundai</td>\n",
       "      <td>2007</td>\n",
       "      <td>135000</td>\n",
       "      <td>119000</td>\n",
       "      <td>Diesel</td>\n",
       "      <td>Fourth &amp; Above Owner</td>\n",
       "      <td>16.8</td>\n",
       "      <td>1493</td>\n",
       "      <td>110</td>\n",
       "      <td>5.0</td>\n",
       "    </tr>\n",
       "    <tr>\n",
       "      <th>8125</th>\n",
       "      <td>Maruti</td>\n",
       "      <td>2009</td>\n",
       "      <td>382000</td>\n",
       "      <td>120000</td>\n",
       "      <td>Diesel</td>\n",
       "      <td>First Owner</td>\n",
       "      <td>19.3</td>\n",
       "      <td>1248</td>\n",
       "      <td>73.9</td>\n",
       "      <td>5.0</td>\n",
       "    </tr>\n",
       "    <tr>\n",
       "      <th>8126</th>\n",
       "      <td>Tata</td>\n",
       "      <td>2013</td>\n",
       "      <td>290000</td>\n",
       "      <td>25000</td>\n",
       "      <td>Diesel</td>\n",
       "      <td>First Owner</td>\n",
       "      <td>23.57</td>\n",
       "      <td>1396</td>\n",
       "      <td>70</td>\n",
       "      <td>5.0</td>\n",
       "    </tr>\n",
       "    <tr>\n",
       "      <th>8127</th>\n",
       "      <td>Tata</td>\n",
       "      <td>2013</td>\n",
       "      <td>290000</td>\n",
       "      <td>25000</td>\n",
       "      <td>Diesel</td>\n",
       "      <td>First Owner</td>\n",
       "      <td>23.57</td>\n",
       "      <td>1396</td>\n",
       "      <td>70</td>\n",
       "      <td>5.0</td>\n",
       "    </tr>\n",
       "  </tbody>\n",
       "</table>\n",
       "<p>8128 rows × 10 columns</p>\n",
       "</div>"
      ],
      "text/plain": [
       "        brand  year  selling_price  km_driven    fuel                 owner  \\\n",
       "0      Maruti  2014         450000     145500  Diesel           First Owner   \n",
       "1       Skoda  2014         370000     120000  Diesel          Second Owner   \n",
       "2       Honda  2006         158000     140000  Petrol           Third Owner   \n",
       "3     Hyundai  2010         225000     127000  Diesel           First Owner   \n",
       "4      Maruti  2007         130000     120000  Petrol           First Owner   \n",
       "...       ...   ...            ...        ...     ...                   ...   \n",
       "8123  Hyundai  2013         320000     110000  Petrol           First Owner   \n",
       "8124  Hyundai  2007         135000     119000  Diesel  Fourth & Above Owner   \n",
       "8125   Maruti  2009         382000     120000  Diesel           First Owner   \n",
       "8126     Tata  2013         290000      25000  Diesel           First Owner   \n",
       "8127     Tata  2013         290000      25000  Diesel           First Owner   \n",
       "\n",
       "     mileage_kmpl engine_CC max_power_bhp  seats  \n",
       "0           23.4      1248            74     5.0  \n",
       "1          21.14      1498        103.52     5.0  \n",
       "2           17.7      1497            78     5.0  \n",
       "3           23.0      1396            90     5.0  \n",
       "4           16.1      1298          88.2     5.0  \n",
       "...           ...       ...           ...    ...  \n",
       "8123        18.5      1197         82.85     5.0  \n",
       "8124        16.8      1493           110     5.0  \n",
       "8125        19.3      1248          73.9     5.0  \n",
       "8126       23.57      1396            70     5.0  \n",
       "8127       23.57      1396            70     5.0  \n",
       "\n",
       "[8128 rows x 10 columns]"
      ]
     },
     "execution_count": 103,
     "metadata": {},
     "output_type": "execute_result"
    }
   ],
   "source": [
    "df = df[df[\"selling_price\"].notnull()]\n",
    "df"
   ]
  },
  {
   "cell_type": "code",
   "execution_count": 104,
   "id": "bef0f8a7",
   "metadata": {},
   "outputs": [
    {
     "data": {
      "text/plain": [
       "Maruti           2448\n",
       "Hyundai          1415\n",
       "Mahindra          772\n",
       "Tata              734\n",
       "Toyota            488\n",
       "Honda             467\n",
       "Ford              397\n",
       "Chevrolet         230\n",
       "Renault           228\n",
       "Volkswagen        186\n",
       "BMW               120\n",
       "Skoda             105\n",
       "Nissan             81\n",
       "Jaguar             71\n",
       "Volvo              67\n",
       "Datsun             65\n",
       "Mercedes-Benz      54\n",
       "Fiat               47\n",
       "Audi               40\n",
       "Lexus              34\n",
       "Jeep               31\n",
       "Mitsubishi         14\n",
       "Force               6\n",
       "Land                6\n",
       "Isuzu               5\n",
       "Kia                 4\n",
       "Ambassador          4\n",
       "Daewoo              3\n",
       "MG                  3\n",
       "Ashok               1\n",
       "Opel                1\n",
       "Peugeot             1\n",
       "Name: brand, dtype: int64"
      ]
     },
     "execution_count": 104,
     "metadata": {},
     "output_type": "execute_result"
    }
   ],
   "source": [
    "df['brand'].value_counts()"
   ]
  },
  {
   "cell_type": "code",
   "execution_count": 105,
   "id": "cb2fde12",
   "metadata": {},
   "outputs": [
    {
     "name": "stdout",
     "output_type": "stream",
     "text": [
      "<class 'pandas.core.frame.DataFrame'>\n",
      "Int64Index: 8128 entries, 0 to 8127\n",
      "Data columns (total 10 columns):\n",
      " #   Column         Non-Null Count  Dtype  \n",
      "---  ------         --------------  -----  \n",
      " 0   brand          8128 non-null   object \n",
      " 1   year           8128 non-null   int64  \n",
      " 2   selling_price  8128 non-null   int64  \n",
      " 3   km_driven      8128 non-null   int64  \n",
      " 4   fuel           8128 non-null   object \n",
      " 5   owner          8128 non-null   object \n",
      " 6   mileage_kmpl   7907 non-null   object \n",
      " 7   engine_CC      7907 non-null   object \n",
      " 8   max_power_bhp  7913 non-null   object \n",
      " 9   seats          7907 non-null   float64\n",
      "dtypes: float64(1), int64(3), object(6)\n",
      "memory usage: 698.5+ KB\n"
     ]
    }
   ],
   "source": [
    "df.info()"
   ]
  },
  {
   "cell_type": "code",
   "execution_count": 106,
   "id": "5e8031d1",
   "metadata": {},
   "outputs": [
    {
     "data": {
      "text/plain": [
       "brand            0\n",
       "year             0\n",
       "selling_price    0\n",
       "km_driven        0\n",
       "fuel             0\n",
       "owner            0\n",
       "mileage_kmpl     0\n",
       "engine_CC        0\n",
       "max_power_bhp    0\n",
       "seats            0\n",
       "dtype: int64"
      ]
     },
     "execution_count": 106,
     "metadata": {},
     "output_type": "execute_result"
    }
   ],
   "source": [
    "df = df.dropna()\n",
    "df.isnull().sum()"
   ]
  },
  {
   "cell_type": "code",
   "execution_count": 107,
   "id": "2854fe30",
   "metadata": {},
   "outputs": [
    {
     "data": {
      "text/plain": [
       "(7907, 10)"
      ]
     },
     "execution_count": 107,
     "metadata": {},
     "output_type": "execute_result"
    }
   ],
   "source": [
    "df.shape"
   ]
  },
  {
   "cell_type": "code",
   "execution_count": 108,
   "id": "e5b88142",
   "metadata": {},
   "outputs": [
    {
     "data": {
      "text/plain": [
       "Diesel    4299\n",
       "Petrol    3520\n",
       "CNG         53\n",
       "LPG         35\n",
       "Name: fuel, dtype: int64"
      ]
     },
     "execution_count": 108,
     "metadata": {},
     "output_type": "execute_result"
    }
   ],
   "source": [
    "df['fuel'].value_counts()"
   ]
  },
  {
   "cell_type": "code",
   "execution_count": 109,
   "id": "ef55dd5f",
   "metadata": {},
   "outputs": [
    {
     "data": {
      "text/plain": [
       "5.0     6254\n",
       "7.0     1120\n",
       "8.0      236\n",
       "4.0      133\n",
       "9.0       80\n",
       "6.0       62\n",
       "10.0      19\n",
       "2.0        2\n",
       "14.0       1\n",
       "Name: seats, dtype: int64"
      ]
     },
     "execution_count": 109,
     "metadata": {},
     "output_type": "execute_result"
    }
   ],
   "source": [
    "df['seats'].value_counts()"
   ]
  },
  {
   "cell_type": "code",
   "execution_count": 110,
   "id": "8ce14bba",
   "metadata": {},
   "outputs": [],
   "source": [
    "def cut_categories(categories, cutoff):\n",
    "    categorical_map = {}\n",
    "    for i in range(len(categories)):\n",
    "        if categories.values[i]>=cutoff:\n",
    "            categorical_map[categories.index[i]] = categories.index[i]\n",
    "        else:\n",
    "            categorical_map[categories.index[i]] = 'Other'\n",
    "    return categorical_map"
   ]
  },
  {
   "cell_type": "code",
   "execution_count": 111,
   "id": "983bba00",
   "metadata": {},
   "outputs": [
    {
     "name": "stderr",
     "output_type": "stream",
     "text": [
      "C:\\Users\\PUJAKA~1\\AppData\\Local\\Temp/ipykernel_4892/3785145234.py:2: SettingWithCopyWarning: \n",
      "A value is trying to be set on a copy of a slice from a DataFrame.\n",
      "Try using .loc[row_indexer,col_indexer] = value instead\n",
      "\n",
      "See the caveats in the documentation: https://pandas.pydata.org/pandas-docs/stable/user_guide/indexing.html#returning-a-view-versus-a-copy\n",
      "  df['brand'] = df['brand'].map(brand_map)\n"
     ]
    },
    {
     "data": {
      "text/plain": [
       "Maruti           2368\n",
       "Hyundai          1360\n",
       "Mahindra          758\n",
       "Tata              719\n",
       "Honda             466\n",
       "Toyota            452\n",
       "Ford              388\n",
       "Chevrolet         230\n",
       "Renault           228\n",
       "Volkswagen        185\n",
       "BMW               118\n",
       "Skoda             104\n",
       "Nissan             81\n",
       "Jaguar             71\n",
       "Volvo              67\n",
       "Datsun             65\n",
       "Mercedes-Benz      54\n",
       "Other              47\n",
       "Fiat               41\n",
       "Audi               40\n",
       "Lexus              34\n",
       "Jeep               31\n",
       "Name: brand, dtype: int64"
      ]
     },
     "execution_count": 111,
     "metadata": {},
     "output_type": "execute_result"
    }
   ],
   "source": [
    "brand_map = cut_categories(df.brand.value_counts(), 15)\n",
    "df['brand'] = df['brand'].map(brand_map)\n",
    "df.brand.value_counts()"
   ]
  },
  {
   "cell_type": "code",
   "execution_count": 112,
   "id": "d3713c49",
   "metadata": {},
   "outputs": [
    {
     "data": {
      "text/plain": [
       "(7907, 10)"
      ]
     },
     "execution_count": 112,
     "metadata": {},
     "output_type": "execute_result"
    }
   ],
   "source": [
    "df.shape"
   ]
  },
  {
   "cell_type": "code",
   "execution_count": 113,
   "id": "85bd5155",
   "metadata": {},
   "outputs": [
    {
     "data": {
      "text/html": [
       "<div>\n",
       "<style scoped>\n",
       "    .dataframe tbody tr th:only-of-type {\n",
       "        vertical-align: middle;\n",
       "    }\n",
       "\n",
       "    .dataframe tbody tr th {\n",
       "        vertical-align: top;\n",
       "    }\n",
       "\n",
       "    .dataframe thead th {\n",
       "        text-align: right;\n",
       "    }\n",
       "</style>\n",
       "<table border=\"1\" class=\"dataframe\">\n",
       "  <thead>\n",
       "    <tr style=\"text-align: right;\">\n",
       "      <th></th>\n",
       "      <th>brand</th>\n",
       "      <th>year</th>\n",
       "      <th>selling_price</th>\n",
       "      <th>km_driven</th>\n",
       "      <th>fuel</th>\n",
       "      <th>owner</th>\n",
       "      <th>mileage_kmpl</th>\n",
       "      <th>engine_CC</th>\n",
       "      <th>max_power_bhp</th>\n",
       "      <th>seats</th>\n",
       "    </tr>\n",
       "  </thead>\n",
       "  <tbody>\n",
       "    <tr>\n",
       "      <th>0</th>\n",
       "      <td>Maruti</td>\n",
       "      <td>2014</td>\n",
       "      <td>450000</td>\n",
       "      <td>145500</td>\n",
       "      <td>Diesel</td>\n",
       "      <td>First Owner</td>\n",
       "      <td>23.4</td>\n",
       "      <td>1248</td>\n",
       "      <td>74</td>\n",
       "      <td>5.0</td>\n",
       "    </tr>\n",
       "    <tr>\n",
       "      <th>1</th>\n",
       "      <td>Skoda</td>\n",
       "      <td>2014</td>\n",
       "      <td>370000</td>\n",
       "      <td>120000</td>\n",
       "      <td>Diesel</td>\n",
       "      <td>Second Owner</td>\n",
       "      <td>21.14</td>\n",
       "      <td>1498</td>\n",
       "      <td>103.52</td>\n",
       "      <td>5.0</td>\n",
       "    </tr>\n",
       "    <tr>\n",
       "      <th>2</th>\n",
       "      <td>Honda</td>\n",
       "      <td>2006</td>\n",
       "      <td>158000</td>\n",
       "      <td>140000</td>\n",
       "      <td>Petrol</td>\n",
       "      <td>Third Owner</td>\n",
       "      <td>17.7</td>\n",
       "      <td>1497</td>\n",
       "      <td>78</td>\n",
       "      <td>5.0</td>\n",
       "    </tr>\n",
       "    <tr>\n",
       "      <th>3</th>\n",
       "      <td>Hyundai</td>\n",
       "      <td>2010</td>\n",
       "      <td>225000</td>\n",
       "      <td>127000</td>\n",
       "      <td>Diesel</td>\n",
       "      <td>First Owner</td>\n",
       "      <td>23.0</td>\n",
       "      <td>1396</td>\n",
       "      <td>90</td>\n",
       "      <td>5.0</td>\n",
       "    </tr>\n",
       "    <tr>\n",
       "      <th>4</th>\n",
       "      <td>Maruti</td>\n",
       "      <td>2007</td>\n",
       "      <td>130000</td>\n",
       "      <td>120000</td>\n",
       "      <td>Petrol</td>\n",
       "      <td>First Owner</td>\n",
       "      <td>16.1</td>\n",
       "      <td>1298</td>\n",
       "      <td>88.2</td>\n",
       "      <td>5.0</td>\n",
       "    </tr>\n",
       "    <tr>\n",
       "      <th>...</th>\n",
       "      <td>...</td>\n",
       "      <td>...</td>\n",
       "      <td>...</td>\n",
       "      <td>...</td>\n",
       "      <td>...</td>\n",
       "      <td>...</td>\n",
       "      <td>...</td>\n",
       "      <td>...</td>\n",
       "      <td>...</td>\n",
       "      <td>...</td>\n",
       "    </tr>\n",
       "    <tr>\n",
       "      <th>8123</th>\n",
       "      <td>Hyundai</td>\n",
       "      <td>2013</td>\n",
       "      <td>320000</td>\n",
       "      <td>110000</td>\n",
       "      <td>Petrol</td>\n",
       "      <td>First Owner</td>\n",
       "      <td>18.5</td>\n",
       "      <td>1197</td>\n",
       "      <td>82.85</td>\n",
       "      <td>5.0</td>\n",
       "    </tr>\n",
       "    <tr>\n",
       "      <th>8124</th>\n",
       "      <td>Hyundai</td>\n",
       "      <td>2007</td>\n",
       "      <td>135000</td>\n",
       "      <td>119000</td>\n",
       "      <td>Diesel</td>\n",
       "      <td>Fourth &amp; Above Owner</td>\n",
       "      <td>16.8</td>\n",
       "      <td>1493</td>\n",
       "      <td>110</td>\n",
       "      <td>5.0</td>\n",
       "    </tr>\n",
       "    <tr>\n",
       "      <th>8125</th>\n",
       "      <td>Maruti</td>\n",
       "      <td>2009</td>\n",
       "      <td>382000</td>\n",
       "      <td>120000</td>\n",
       "      <td>Diesel</td>\n",
       "      <td>First Owner</td>\n",
       "      <td>19.3</td>\n",
       "      <td>1248</td>\n",
       "      <td>73.9</td>\n",
       "      <td>5.0</td>\n",
       "    </tr>\n",
       "    <tr>\n",
       "      <th>8126</th>\n",
       "      <td>Tata</td>\n",
       "      <td>2013</td>\n",
       "      <td>290000</td>\n",
       "      <td>25000</td>\n",
       "      <td>Diesel</td>\n",
       "      <td>First Owner</td>\n",
       "      <td>23.57</td>\n",
       "      <td>1396</td>\n",
       "      <td>70</td>\n",
       "      <td>5.0</td>\n",
       "    </tr>\n",
       "    <tr>\n",
       "      <th>8127</th>\n",
       "      <td>Tata</td>\n",
       "      <td>2013</td>\n",
       "      <td>290000</td>\n",
       "      <td>25000</td>\n",
       "      <td>Diesel</td>\n",
       "      <td>First Owner</td>\n",
       "      <td>23.57</td>\n",
       "      <td>1396</td>\n",
       "      <td>70</td>\n",
       "      <td>5.0</td>\n",
       "    </tr>\n",
       "  </tbody>\n",
       "</table>\n",
       "<p>7907 rows × 10 columns</p>\n",
       "</div>"
      ],
      "text/plain": [
       "        brand  year  selling_price  km_driven    fuel                 owner  \\\n",
       "0      Maruti  2014         450000     145500  Diesel           First Owner   \n",
       "1       Skoda  2014         370000     120000  Diesel          Second Owner   \n",
       "2       Honda  2006         158000     140000  Petrol           Third Owner   \n",
       "3     Hyundai  2010         225000     127000  Diesel           First Owner   \n",
       "4      Maruti  2007         130000     120000  Petrol           First Owner   \n",
       "...       ...   ...            ...        ...     ...                   ...   \n",
       "8123  Hyundai  2013         320000     110000  Petrol           First Owner   \n",
       "8124  Hyundai  2007         135000     119000  Diesel  Fourth & Above Owner   \n",
       "8125   Maruti  2009         382000     120000  Diesel           First Owner   \n",
       "8126     Tata  2013         290000      25000  Diesel           First Owner   \n",
       "8127     Tata  2013         290000      25000  Diesel           First Owner   \n",
       "\n",
       "     mileage_kmpl engine_CC max_power_bhp  seats  \n",
       "0           23.4      1248            74     5.0  \n",
       "1          21.14      1498        103.52     5.0  \n",
       "2           17.7      1497            78     5.0  \n",
       "3           23.0      1396            90     5.0  \n",
       "4           16.1      1298          88.2     5.0  \n",
       "...           ...       ...           ...    ...  \n",
       "8123        18.5      1197         82.85     5.0  \n",
       "8124        16.8      1493           110     5.0  \n",
       "8125        19.3      1248          73.9     5.0  \n",
       "8126       23.57      1396            70     5.0  \n",
       "8127       23.57      1396            70     5.0  \n",
       "\n",
       "[7907 rows x 10 columns]"
      ]
     },
     "execution_count": 113,
     "metadata": {},
     "output_type": "execute_result"
    }
   ],
   "source": [
    "df"
   ]
  },
  {
   "cell_type": "code",
   "execution_count": 114,
   "id": "a70cd5fe",
   "metadata": {},
   "outputs": [
    {
     "data": {
      "text/plain": [
       "First Owner             5215\n",
       "Second Owner            2017\n",
       "Third Owner              510\n",
       "Fourth & Above Owner     160\n",
       "Test Drive Car             5\n",
       "Name: owner, dtype: int64"
      ]
     },
     "execution_count": 114,
     "metadata": {},
     "output_type": "execute_result"
    }
   ],
   "source": [
    "df.owner.value_counts()"
   ]
  },
  {
   "cell_type": "code",
   "execution_count": 115,
   "id": "bda42f64",
   "metadata": {},
   "outputs": [
    {
     "name": "stderr",
     "output_type": "stream",
     "text": [
      "C:\\Users\\PUJAKA~1\\AppData\\Local\\Temp/ipykernel_4892/4060065058.py:8: SettingWithCopyWarning: \n",
      "A value is trying to be set on a copy of a slice from a DataFrame.\n",
      "Try using .loc[row_indexer,col_indexer] = value instead\n",
      "\n",
      "See the caveats in the documentation: https://pandas.pydata.org/pandas-docs/stable/user_guide/indexing.html#returning-a-view-versus-a-copy\n",
      "  df['owner'] = df['owner'].map(owner_map)\n"
     ]
    },
    {
     "data": {
      "text/plain": [
       "First Owner             5215\n",
       "Second Owner            2017\n",
       "Third Owner              510\n",
       "Fourth & Above Owner     160\n",
       "Name: owner, dtype: int64"
      ]
     },
     "execution_count": 115,
     "metadata": {},
     "output_type": "execute_result"
    }
   ],
   "source": [
    "def cut_categories1(categories, cutoff):\n",
    "    categorical_map = {}\n",
    "    for i in range(len(categories)):\n",
    "        if categories.values[i]>=cutoff:\n",
    "            categorical_map[categories.index[i]] = categories.index[i]\n",
    "    return categorical_map\n",
    "owner_map = cut_categories1(df.owner.value_counts(), 10)\n",
    "df['owner'] = df['owner'].map(owner_map)\n",
    "df.owner.value_counts()"
   ]
  },
  {
   "cell_type": "code",
   "execution_count": 116,
   "id": "f532ce8e",
   "metadata": {},
   "outputs": [
    {
     "data": {
      "text/plain": [
       "Maruti           2368\n",
       "Hyundai          1360\n",
       "Mahindra          758\n",
       "Tata              719\n",
       "Honda             466\n",
       "Toyota            452\n",
       "Ford              388\n",
       "Chevrolet         230\n",
       "Renault           228\n",
       "Volkswagen        185\n",
       "BMW               118\n",
       "Skoda             104\n",
       "Nissan             81\n",
       "Jaguar             71\n",
       "Volvo              67\n",
       "Datsun             65\n",
       "Mercedes-Benz      54\n",
       "Other              47\n",
       "Fiat               41\n",
       "Audi               40\n",
       "Lexus              34\n",
       "Jeep               31\n",
       "Name: brand, dtype: int64"
      ]
     },
     "execution_count": 116,
     "metadata": {},
     "output_type": "execute_result"
    }
   ],
   "source": [
    "df.brand.value_counts()"
   ]
  },
  {
   "cell_type": "code",
   "execution_count": 117,
   "id": "b79ffc01",
   "metadata": {},
   "outputs": [
    {
     "data": {
      "text/plain": [
       "First Owner             5215\n",
       "Second Owner            2017\n",
       "Third Owner              510\n",
       "Fourth & Above Owner     160\n",
       "Name: owner, dtype: int64"
      ]
     },
     "execution_count": 117,
     "metadata": {},
     "output_type": "execute_result"
    }
   ],
   "source": [
    "df.owner.value_counts()"
   ]
  },
  {
   "cell_type": "code",
   "execution_count": 118,
   "id": "0967641a",
   "metadata": {},
   "outputs": [
    {
     "data": {
      "text/html": [
       "<div>\n",
       "<style scoped>\n",
       "    .dataframe tbody tr th:only-of-type {\n",
       "        vertical-align: middle;\n",
       "    }\n",
       "\n",
       "    .dataframe tbody tr th {\n",
       "        vertical-align: top;\n",
       "    }\n",
       "\n",
       "    .dataframe thead th {\n",
       "        text-align: right;\n",
       "    }\n",
       "</style>\n",
       "<table border=\"1\" class=\"dataframe\">\n",
       "  <thead>\n",
       "    <tr style=\"text-align: right;\">\n",
       "      <th></th>\n",
       "      <th>brand</th>\n",
       "      <th>year</th>\n",
       "      <th>selling_price</th>\n",
       "      <th>km_driven</th>\n",
       "      <th>fuel</th>\n",
       "      <th>owner</th>\n",
       "      <th>mileage_kmpl</th>\n",
       "      <th>engine_CC</th>\n",
       "      <th>max_power_bhp</th>\n",
       "      <th>seats</th>\n",
       "    </tr>\n",
       "  </thead>\n",
       "  <tbody>\n",
       "    <tr>\n",
       "      <th>0</th>\n",
       "      <td>Maruti</td>\n",
       "      <td>2014</td>\n",
       "      <td>450000</td>\n",
       "      <td>145500</td>\n",
       "      <td>Diesel</td>\n",
       "      <td>First Owner</td>\n",
       "      <td>23.4</td>\n",
       "      <td>1248</td>\n",
       "      <td>74</td>\n",
       "      <td>5.0</td>\n",
       "    </tr>\n",
       "    <tr>\n",
       "      <th>1</th>\n",
       "      <td>Skoda</td>\n",
       "      <td>2014</td>\n",
       "      <td>370000</td>\n",
       "      <td>120000</td>\n",
       "      <td>Diesel</td>\n",
       "      <td>Second Owner</td>\n",
       "      <td>21.14</td>\n",
       "      <td>1498</td>\n",
       "      <td>103.52</td>\n",
       "      <td>5.0</td>\n",
       "    </tr>\n",
       "    <tr>\n",
       "      <th>2</th>\n",
       "      <td>Honda</td>\n",
       "      <td>2006</td>\n",
       "      <td>158000</td>\n",
       "      <td>140000</td>\n",
       "      <td>Petrol</td>\n",
       "      <td>Third Owner</td>\n",
       "      <td>17.7</td>\n",
       "      <td>1497</td>\n",
       "      <td>78</td>\n",
       "      <td>5.0</td>\n",
       "    </tr>\n",
       "    <tr>\n",
       "      <th>3</th>\n",
       "      <td>Hyundai</td>\n",
       "      <td>2010</td>\n",
       "      <td>225000</td>\n",
       "      <td>127000</td>\n",
       "      <td>Diesel</td>\n",
       "      <td>First Owner</td>\n",
       "      <td>23.0</td>\n",
       "      <td>1396</td>\n",
       "      <td>90</td>\n",
       "      <td>5.0</td>\n",
       "    </tr>\n",
       "    <tr>\n",
       "      <th>4</th>\n",
       "      <td>Maruti</td>\n",
       "      <td>2007</td>\n",
       "      <td>130000</td>\n",
       "      <td>120000</td>\n",
       "      <td>Petrol</td>\n",
       "      <td>First Owner</td>\n",
       "      <td>16.1</td>\n",
       "      <td>1298</td>\n",
       "      <td>88.2</td>\n",
       "      <td>5.0</td>\n",
       "    </tr>\n",
       "  </tbody>\n",
       "</table>\n",
       "</div>"
      ],
      "text/plain": [
       "     brand  year  selling_price  km_driven    fuel         owner mileage_kmpl  \\\n",
       "0   Maruti  2014         450000     145500  Diesel   First Owner        23.4    \n",
       "1    Skoda  2014         370000     120000  Diesel  Second Owner       21.14    \n",
       "2    Honda  2006         158000     140000  Petrol   Third Owner        17.7    \n",
       "3  Hyundai  2010         225000     127000  Diesel   First Owner        23.0    \n",
       "4   Maruti  2007         130000     120000  Petrol   First Owner        16.1    \n",
       "\n",
       "  engine_CC max_power_bhp  seats  \n",
       "0     1248            74     5.0  \n",
       "1     1498        103.52     5.0  \n",
       "2     1497            78     5.0  \n",
       "3     1396            90     5.0  \n",
       "4     1298          88.2     5.0  "
      ]
     },
     "execution_count": 118,
     "metadata": {},
     "output_type": "execute_result"
    }
   ],
   "source": [
    "df.head()"
   ]
  },
  {
   "cell_type": "code",
   "execution_count": 119,
   "id": "d9bb633e",
   "metadata": {},
   "outputs": [
    {
     "data": {
      "image/png": "[encoded data removed]",
      "text/plain": [
       "<Figure size 864x504 with 1 Axes>"
      ]
     },
     "metadata": {
      "needs_background": "light"
     },
     "output_type": "display_data"
    }
   ],
   "source": [
    "fig, ax = plt.subplots(1,1, figsize=(12,7))\n",
    "df.boxplot('selling_price', 'brand', ax=ax)\n",
    "plt.title('price Vs brands')\n",
    "#plt.title('')\n",
    "plt.ylabel('selling_price')\n",
    "plt.xticks(rotation=90)\n",
    "plt.show()"
   ]
  },
  {
   "cell_type": "code",
   "execution_count": 120,
   "id": "ab7ab7a9",
   "metadata": {},
   "outputs": [
    {
     "name": "stderr",
     "output_type": "stream",
     "text": [
      "C:\\Users\\PUJAKA~1\\AppData\\Local\\Temp/ipykernel_4892/1579196101.py:2: SettingWithCopyWarning: \n",
      "A value is trying to be set on a copy of a slice from a DataFrame.\n",
      "Try using .loc[row_indexer,col_indexer] = value instead\n",
      "\n",
      "See the caveats in the documentation: https://pandas.pydata.org/pandas-docs/stable/user_guide/indexing.html#returning-a-view-versus-a-copy\n",
      "  df['seats'] = df['seats'].map(seats_map)\n"
     ]
    },
    {
     "data": {
      "text/plain": [
       "5.0     6254\n",
       "7.0     1120\n",
       "8.0      236\n",
       "4.0      133\n",
       "9.0       80\n",
       "6.0       62\n",
       "10.0      19\n",
       "Name: seats, dtype: int64"
      ]
     },
     "execution_count": 120,
     "metadata": {},
     "output_type": "execute_result"
    }
   ],
   "source": [
    "seats_map = cut_categories1(df.seats.value_counts(), 10)\n",
    "df['seats'] = df['seats'].map(seats_map)\n",
    "df.seats.value_counts()"
   ]
  },
  {
   "cell_type": "code",
   "execution_count": 121,
   "id": "0b20ec9d",
   "metadata": {},
   "outputs": [
    {
     "data": {
      "text/plain": [
       "(7907, 10)"
      ]
     },
     "execution_count": 121,
     "metadata": {},
     "output_type": "execute_result"
    }
   ],
   "source": [
    "df.shape"
   ]
  },
  {
   "cell_type": "code",
   "execution_count": 122,
   "id": "25d2d67e",
   "metadata": {},
   "outputs": [
    {
     "data": {
      "text/plain": [
       "array([ 5.,  4.,  7.,  8.,  6.,  9., 10., nan])"
      ]
     },
     "execution_count": 122,
     "metadata": {},
     "output_type": "execute_result"
    }
   ],
   "source": [
    "df[\"seats\"].unique()"
   ]
  },
  {
   "cell_type": "code",
   "execution_count": 123,
   "id": "f29e7bbd",
   "metadata": {},
   "outputs": [
    {
     "data": {
      "text/plain": [
       "array(['Maruti', 'Skoda', 'Honda', 'Hyundai', 'Toyota', 'Ford', 'Renault',\n",
       "       'Mahindra', 'Tata', 'Chevrolet', 'Datsun', 'Jeep', 'Mercedes-Benz',\n",
       "       'Other', 'Audi', 'Volkswagen', 'BMW', 'Nissan', 'Lexus', 'Jaguar',\n",
       "       'Volvo', 'Fiat'], dtype=object)"
      ]
     },
     "execution_count": 123,
     "metadata": {},
     "output_type": "execute_result"
    }
   ],
   "source": [
    "df[\"brand\"].unique()"
   ]
  },
  {
   "cell_type": "code",
   "execution_count": 124,
   "id": "a8c9f890",
   "metadata": {},
   "outputs": [
    {
     "data": {
      "text/plain": [
       "array(['First Owner', 'Second Owner', 'Third Owner',\n",
       "       'Fourth & Above Owner', nan], dtype=object)"
      ]
     },
     "execution_count": 124,
     "metadata": {},
     "output_type": "execute_result"
    }
   ],
   "source": [
    "df[\"owner\"].unique()"
   ]
  },
  {
   "cell_type": "code",
   "execution_count": 125,
   "id": "1ae7fcd4",
   "metadata": {},
   "outputs": [
    {
     "name": "stdout",
     "output_type": "stream",
     "text": [
      "<class 'pandas.core.frame.DataFrame'>\n",
      "Int64Index: 7907 entries, 0 to 8127\n",
      "Data columns (total 10 columns):\n",
      " #   Column         Non-Null Count  Dtype  \n",
      "---  ------         --------------  -----  \n",
      " 0   brand          7907 non-null   object \n",
      " 1   year           7907 non-null   int64  \n",
      " 2   selling_price  7907 non-null   int64  \n",
      " 3   km_driven      7907 non-null   int64  \n",
      " 4   fuel           7907 non-null   object \n",
      " 5   owner          7902 non-null   object \n",
      " 6   mileage_kmpl   7907 non-null   object \n",
      " 7   engine_CC      7907 non-null   object \n",
      " 8   max_power_bhp  7907 non-null   object \n",
      " 9   seats          7904 non-null   float64\n",
      "dtypes: float64(1), int64(3), object(6)\n",
      "memory usage: 679.5+ KB\n"
     ]
    }
   ],
   "source": [
    "df.info()"
   ]
  },
  {
   "cell_type": "code",
   "execution_count": 126,
   "id": "d89010bd",
   "metadata": {},
   "outputs": [
    {
     "data": {
      "text/plain": [
       "brand            0\n",
       "year             0\n",
       "selling_price    0\n",
       "km_driven        0\n",
       "fuel             0\n",
       "owner            0\n",
       "mileage_kmpl     0\n",
       "engine_CC        0\n",
       "max_power_bhp    0\n",
       "seats            0\n",
       "dtype: int64"
      ]
     },
     "execution_count": 126,
     "metadata": {},
     "output_type": "execute_result"
    }
   ],
   "source": [
    "df = df.dropna()\n",
    "df.isnull().sum()"
   ]
  },
  {
   "cell_type": "code",
   "execution_count": 127,
   "id": "80474157",
   "metadata": {},
   "outputs": [
    {
     "name": "stdout",
     "output_type": "stream",
     "text": [
      "<class 'pandas.core.frame.DataFrame'>\n",
      "Int64Index: 7899 entries, 0 to 8127\n",
      "Data columns (total 10 columns):\n",
      " #   Column         Non-Null Count  Dtype  \n",
      "---  ------         --------------  -----  \n",
      " 0   brand          7899 non-null   object \n",
      " 1   year           7899 non-null   int64  \n",
      " 2   selling_price  7899 non-null   int64  \n",
      " 3   km_driven      7899 non-null   int64  \n",
      " 4   fuel           7899 non-null   object \n",
      " 5   owner          7899 non-null   object \n",
      " 6   mileage_kmpl   7899 non-null   object \n",
      " 7   engine_CC      7899 non-null   object \n",
      " 8   max_power_bhp  7899 non-null   object \n",
      " 9   seats          7899 non-null   float64\n",
      "dtypes: float64(1), int64(3), object(6)\n",
      "memory usage: 678.8+ KB\n"
     ]
    }
   ],
   "source": [
    "df.info()"
   ]
  },
  {
   "cell_type": "code",
   "execution_count": 128,
   "id": "f13f3b65",
   "metadata": {},
   "outputs": [
    {
     "data": {
      "text/plain": [
       "array(['74 ', '103.52 ', '78 ', '90 ', '88.2 ', '81.86 ', '57.5 ', '37 ',\n",
       "       '67.1 ', '68.1 ', '108.45 ', '60 ', '73.9 ', '67 ', '82 ', '88.5 ',\n",
       "       '46.3 ', '88.73 ', '64.1 ', '98.6 ', '88.8 ', '83.81 ', '83.1 ',\n",
       "       '47.3 ', '73.8 ', '34.2 ', '35 ', '81.83 ', '40.3 ', '121.3 ',\n",
       "       '138.03 ', '160.77 ', '117.3 ', '116.3 ', '83.14 ', '67.05 ',\n",
       "       '168.5 ', '100 ', '120.7 ', '98.63 ', '175.56 ', '103.25 ',\n",
       "       '171.5 ', '100.6 ', '174.33 ', '187.74 ', '170 ', '78.9 ',\n",
       "       '88.76 ', '86.8 ', '108.495 ', '108.62 ', '93.7 ', '103.6 ',\n",
       "       '98.59 ', '189 ', '67.04 ', '68.05 ', '58.2 ', '82.85 ', '81.80 ',\n",
       "       '73 ', '120 ', '94.68 ', '160 ', '65 ', '155 ', '69.01 ',\n",
       "       '126.32 ', '138.1 ', '83.8 ', '126.2 ', '98.96 ', '62.1 ', '86.7 ',\n",
       "       '188 ', '214.56 ', '177 ', '280 ', '148.31 ', '254.79 ', '190 ',\n",
       "       '177.46 ', '204 ', '141 ', '117.6 ', '241.4 ', '282 ', '150 ',\n",
       "       '147.5 ', '108.5 ', '103.5 ', '183 ', '181.04 ', '157.7 ',\n",
       "       '164.7 ', '91.1 ', '400 ', '68 ', '75 ', '85.8 ', '87.2 ', '53 ',\n",
       "       '118 ', '103.2 ', '83 ', '84 ', '58.16 ', '147.94 ', '74.02 ',\n",
       "       '53.3 ', '80 ', '88.7 ', '97.7 ', '121.36 ', '162 ', '140 ', '94 ',\n",
       "       '100.57 ', '82.9 ', '83.11 ', '70 ', '153.86 ', '121 ', '126.3 ',\n",
       "       '73.97 ', '171 ', '69 ', '99.6 ', '102 ', '105 ', '63 ', '79.4 ',\n",
       "       '97.9 ', '63.1 ', '66.1 ', '110 ', '174.5 ', '53.26 ', '73.75 ',\n",
       "       '67.06 ', '64.08 ', '37.5 ', '189.3 ', '158.8 ', '61.7 ', '55.2 ',\n",
       "       '71.01 ', '73.74 ', '147.9 ', '71 ', '77 ', '121.4 ', '113.4 ',\n",
       "       '47 ', '130 ', '57.6 ', '138 ', '52.8 ', '53.64 ', '53.5 ',\n",
       "       '76.8 ', '82.4 ', '113.42 ', '76 ', '84.8 ', '56.3 ', '218 ',\n",
       "       '112 ', '92 ', '105.5 ', '169 ', '95 ', '72.4 ', '115 ', '152 ',\n",
       "       '91.2 ', '156 ', '74.9 ', '62 ', '105.3 ', '73.94 ', '85.80 ',\n",
       "       '85 ', '118.3 ', '72 ', '147.51 ', '58 ', '64 ', '126.24 ',\n",
       "       '76.9 ', '194.3 ', '99.23 ', '89.84 ', '123.7 ', '118.35 ', '99 ',\n",
       "       '241 ', '136 ', '261.4 ', '104.68 ', '37.48 ', '104 ', '88.50 ',\n",
       "       '63.12 ', '91.7 ', '102.5 ', '177.6 ', '45 ', '123.37 ', '147.8 ',\n",
       "       '184 ', '84.48 ', '68.07 ', '74.96 ', '167.6 ', '152.87 ',\n",
       "       '112.2 ', '83.83 ', '197 ', '110.4 ', '104.55 ', '103 ', '103.3 ',\n",
       "       '66 ', '108.6 ', '165 ', '163.7 ', '116.9 ', '94.93 ', '127 ',\n",
       "       '198.5 ', '179.5 ', '120.69 ', '121.31 ', '138.08 ', '187.7 ',\n",
       "       '80.8 ', '86.79 ', '93.87 ', '116.6 ', '143 ', '92.7 ', '88 ',\n",
       "       '58.33 ', '78.8 ', '64.4 ', '125 ', '139.01 ', '254.8 ', '181 ',\n",
       "       '258 ', '55.23 ', '270.9 ', '265 ', '157.75 ', '101 ', '186 ',\n",
       "       '187.4 ', '224 ', '64.9 ', '148 ', '35.5 ', '89.75 ', '32.8 ',\n",
       "       '91.72 ', '106 ', '98.97 ', '66.6 ', '86 ', '65.3 ', '98.82 ',\n",
       "       '198.25 ', '38 ', '142 ', '132 ', '174.57 ', '178 ', '163.2 ',\n",
       "       '203.2 ', '177.5 ', '175 ', '57 ', '80.84 ', '68.4 ', '167.67 ',\n",
       "       '170.63 ', '52 ', '149.5 ', '48.21 ', ' ', '201.1 ', '100.5 ',\n",
       "       '144 ', '194.4 ', '168.7 ', '104.5 ', '103.26 ', '116.4 ',\n",
       "       '98.79 ', '80.9 ', '58.3 ', '272 ', '235 ', '167.62 ', '170.30 ',\n",
       "       '158 ', '110.5 ', '82.5 ', '141.1 ', '38.4 ', '197.2 ', '161 ',\n",
       "       '194 ', '122.4 ', '134.10 ', '60.2 ', '134 ', '203 ', '135.1 '],\n",
       "      dtype=object)"
      ]
     },
     "execution_count": 128,
     "metadata": {},
     "output_type": "execute_result"
    }
   ],
   "source": [
    "df[\"max_power_bhp\"].unique()\n"
   ]
  },
  {
   "cell_type": "code",
   "execution_count": 129,
   "id": "1b3de74e",
   "metadata": {},
   "outputs": [
    {
     "name": "stderr",
     "output_type": "stream",
     "text": [
      "C:\\Users\\PUJAKA~1\\AppData\\Local\\Temp/ipykernel_4892/985007193.py:1: SettingWithCopyWarning: \n",
      "A value is trying to be set on a copy of a slice from a DataFrame.\n",
      "Try using .loc[row_indexer,col_indexer] = value instead\n",
      "\n",
      "See the caveats in the documentation: https://pandas.pydata.org/pandas-docs/stable/user_guide/indexing.html#returning-a-view-versus-a-copy\n",
      "  df['max_power_bhp'] = df['max_power_bhp'].apply(pd.to_numeric, errors='coerce')\n",
      "C:\\Users\\PUJAKA~1\\AppData\\Local\\Temp/ipykernel_4892/985007193.py:2: SettingWithCopyWarning: \n",
      "A value is trying to be set on a copy of a slice from a DataFrame.\n",
      "Try using .loc[row_indexer,col_indexer] = value instead\n",
      "\n",
      "See the caveats in the documentation: https://pandas.pydata.org/pandas-docs/stable/user_guide/indexing.html#returning-a-view-versus-a-copy\n",
      "  df['engine_CC'] = df['engine_CC'].apply(pd.to_numeric, errors='coerce')\n"
     ]
    },
    {
     "name": "stdout",
     "output_type": "stream",
     "text": [
      "<class 'pandas.core.frame.DataFrame'>\n",
      "Int64Index: 7899 entries, 0 to 8127\n",
      "Data columns (total 10 columns):\n",
      " #   Column         Non-Null Count  Dtype  \n",
      "---  ------         --------------  -----  \n",
      " 0   brand          7899 non-null   object \n",
      " 1   year           7899 non-null   int64  \n",
      " 2   selling_price  7899 non-null   int64  \n",
      " 3   km_driven      7899 non-null   int64  \n",
      " 4   fuel           7899 non-null   object \n",
      " 5   owner          7899 non-null   object \n",
      " 6   mileage_kmpl   7899 non-null   float64\n",
      " 7   engine_CC      7899 non-null   int64  \n",
      " 8   max_power_bhp  7898 non-null   float64\n",
      " 9   seats          7899 non-null   float64\n",
      "dtypes: float64(3), int64(4), object(3)\n",
      "memory usage: 678.8+ KB\n"
     ]
    },
    {
     "name": "stderr",
     "output_type": "stream",
     "text": [
      "C:\\Users\\PUJAKA~1\\AppData\\Local\\Temp/ipykernel_4892/985007193.py:3: SettingWithCopyWarning: \n",
      "A value is trying to be set on a copy of a slice from a DataFrame.\n",
      "Try using .loc[row_indexer,col_indexer] = value instead\n",
      "\n",
      "See the caveats in the documentation: https://pandas.pydata.org/pandas-docs/stable/user_guide/indexing.html#returning-a-view-versus-a-copy\n",
      "  df['mileage_kmpl'] = df['mileage_kmpl'].apply(pd.to_numeric, errors='coerce')\n"
     ]
    }
   ],
   "source": [
    "df['max_power_bhp'] = df['max_power_bhp'].apply(pd.to_numeric, errors='coerce')\n",
    "df['engine_CC'] = df['engine_CC'].apply(pd.to_numeric, errors='coerce')\n",
    "df['mileage_kmpl'] = df['mileage_kmpl'].apply(pd.to_numeric, errors='coerce')\n",
    "df.info()"
   ]
  },
  {
   "cell_type": "code",
   "execution_count": 130,
   "id": "8b5d8350",
   "metadata": {},
   "outputs": [
    {
     "data": {
      "text/plain": [
       "array(['First Owner', 'Second Owner', 'Third Owner',\n",
       "       'Fourth & Above Owner'], dtype=object)"
      ]
     },
     "execution_count": 130,
     "metadata": {},
     "output_type": "execute_result"
    }
   ],
   "source": [
    "df[\"owner\"].unique()"
   ]
  },
  {
   "cell_type": "code",
   "execution_count": 131,
   "id": "994e9e7e",
   "metadata": {},
   "outputs": [
    {
     "data": {
      "text/plain": [
       "array(['Diesel', 'Petrol', 'LPG', 'CNG'], dtype=object)"
      ]
     },
     "execution_count": 131,
     "metadata": {},
     "output_type": "execute_result"
    }
   ],
   "source": [
    "df[\"fuel\"].unique()"
   ]
  },
  {
   "cell_type": "code",
   "execution_count": 168,
   "id": "41d63895",
   "metadata": {},
   "outputs": [
    {
     "data": {
      "text/plain": [
       "array([2014, 2006, 2010, 2007, 2017, 2001, 2011, 2013, 2005, 2009, 2016,\n",
       "       2012, 2002, 2015, 2018, 2019, 2008, 2020, 1999, 2000, 2003, 2004,\n",
       "       1994, 1998, 1997, 1995, 1996], dtype=int64)"
      ]
     },
     "execution_count": 168,
     "metadata": {},
     "output_type": "execute_result"
    }
   ],
   "source": [
    "df['year'].unique()"
   ]
  },
  {
   "cell_type": "code",
   "execution_count": 133,
   "id": "79fb65bc",
   "metadata": {},
   "outputs": [
    {
     "name": "stderr",
     "output_type": "stream",
     "text": [
      "C:\\Users\\PUJAKA~1\\AppData\\Local\\Temp/ipykernel_4892/3715305837.py:3: SettingWithCopyWarning: \n",
      "A value is trying to be set on a copy of a slice from a DataFrame.\n",
      "Try using .loc[row_indexer,col_indexer] = value instead\n",
      "\n",
      "See the caveats in the documentation: https://pandas.pydata.org/pandas-docs/stable/user_guide/indexing.html#returning-a-view-versus-a-copy\n",
      "  df['owner']= leb_owner.fit_transform(df['owner'])\n"
     ]
    },
    {
     "data": {
      "text/plain": [
       "array([0, 2, 3, 1])"
      ]
     },
     "execution_count": 133,
     "metadata": {},
     "output_type": "execute_result"
    }
   ],
   "source": [
    "from sklearn.preprocessing import LabelEncoder\n",
    "leb_owner = LabelEncoder()\n",
    "df['owner']= leb_owner.fit_transform(df['owner'])\n",
    "df['owner'].unique()"
   ]
  },
  {
   "cell_type": "code",
   "execution_count": 134,
   "id": "154c5a8b",
   "metadata": {},
   "outputs": [
    {
     "name": "stderr",
     "output_type": "stream",
     "text": [
      "C:\\Users\\PUJAKA~1\\AppData\\Local\\Temp/ipykernel_4892/811490120.py:2: SettingWithCopyWarning: \n",
      "A value is trying to be set on a copy of a slice from a DataFrame.\n",
      "Try using .loc[row_indexer,col_indexer] = value instead\n",
      "\n",
      "See the caveats in the documentation: https://pandas.pydata.org/pandas-docs/stable/user_guide/indexing.html#returning-a-view-versus-a-copy\n",
      "  df['fuel']= leb_fuel.fit_transform(df['fuel'])\n"
     ]
    },
    {
     "data": {
      "text/plain": [
       "array([1, 3, 2, 0])"
      ]
     },
     "execution_count": 134,
     "metadata": {},
     "output_type": "execute_result"
    }
   ],
   "source": [
    "leb_fuel = LabelEncoder()\n",
    "df['fuel']= leb_fuel.fit_transform(df['fuel'])\n",
    "df['fuel'].unique()"
   ]
  },
  {
   "cell_type": "code",
   "execution_count": 135,
   "id": "287e06b1",
   "metadata": {},
   "outputs": [
    {
     "name": "stdout",
     "output_type": "stream",
     "text": [
      "<class 'pandas.core.frame.DataFrame'>\n",
      "Int64Index: 7899 entries, 0 to 8127\n",
      "Data columns (total 10 columns):\n",
      " #   Column         Non-Null Count  Dtype  \n",
      "---  ------         --------------  -----  \n",
      " 0   brand          7899 non-null   object \n",
      " 1   year           7899 non-null   int64  \n",
      " 2   selling_price  7899 non-null   int64  \n",
      " 3   km_driven      7899 non-null   int64  \n",
      " 4   fuel           7899 non-null   int32  \n",
      " 5   owner          7899 non-null   int32  \n",
      " 6   mileage_kmpl   7899 non-null   float64\n",
      " 7   engine_CC      7899 non-null   int64  \n",
      " 8   max_power_bhp  7898 non-null   float64\n",
      " 9   seats          7899 non-null   float64\n",
      "dtypes: float64(3), int32(2), int64(4), object(1)\n",
      "memory usage: 617.1+ KB\n"
     ]
    }
   ],
   "source": [
    "df.info()"
   ]
  },
  {
   "cell_type": "code",
   "execution_count": 136,
   "id": "9faebddf",
   "metadata": {},
   "outputs": [
    {
     "name": "stderr",
     "output_type": "stream",
     "text": [
      "C:\\Users\\PUJAKA~1\\AppData\\Local\\Temp/ipykernel_4892/2744255205.py:2: SettingWithCopyWarning: \n",
      "A value is trying to be set on a copy of a slice from a DataFrame.\n",
      "Try using .loc[row_indexer,col_indexer] = value instead\n",
      "\n",
      "See the caveats in the documentation: https://pandas.pydata.org/pandas-docs/stable/user_guide/indexing.html#returning-a-view-versus-a-copy\n",
      "  df['brand']= leb_brand.fit_transform(df['brand'])\n"
     ]
    },
    {
     "data": {
      "text/plain": [
       "array([12, 17,  6,  7, 19,  5, 16, 11, 18,  2,  3,  9, 13, 15,  0, 20,  1,\n",
       "       14, 10,  8, 21,  4])"
      ]
     },
     "execution_count": 136,
     "metadata": {},
     "output_type": "execute_result"
    }
   ],
   "source": [
    "leb_brand = LabelEncoder()\n",
    "df['brand']= leb_brand.fit_transform(df['brand'])\n",
    "df['brand'].unique()"
   ]
  },
  {
   "cell_type": "code",
   "execution_count": 137,
   "id": "6c201ec4",
   "metadata": {},
   "outputs": [
    {
     "data": {
      "text/plain": [
       "brand            0\n",
       "year             0\n",
       "selling_price    0\n",
       "km_driven        0\n",
       "fuel             0\n",
       "owner            0\n",
       "mileage_kmpl     0\n",
       "engine_CC        0\n",
       "max_power_bhp    0\n",
       "seats            0\n",
       "dtype: int64"
      ]
     },
     "execution_count": 137,
     "metadata": {},
     "output_type": "execute_result"
    }
   ],
   "source": [
    "df = df.dropna()\n",
    "df.isnull().sum()"
   ]
  },
  {
   "cell_type": "code",
   "execution_count": 138,
   "id": "bb88cd20",
   "metadata": {},
   "outputs": [],
   "source": [
    "x = df.drop(\"selling_price\", axis=1)\n",
    "y = df[\"selling_price\"]"
   ]
  },
  {
   "cell_type": "code",
   "execution_count": 139,
   "id": "191a3269",
   "metadata": {},
   "outputs": [
    {
     "name": "stdout",
     "output_type": "stream",
     "text": [
      "<class 'pandas.core.frame.DataFrame'>\n",
      "Int64Index: 7898 entries, 0 to 8127\n",
      "Data columns (total 9 columns):\n",
      " #   Column         Non-Null Count  Dtype  \n",
      "---  ------         --------------  -----  \n",
      " 0   brand          7898 non-null   int32  \n",
      " 1   year           7898 non-null   int64  \n",
      " 2   km_driven      7898 non-null   int64  \n",
      " 3   fuel           7898 non-null   int32  \n",
      " 4   owner          7898 non-null   int32  \n",
      " 5   mileage_kmpl   7898 non-null   float64\n",
      " 6   engine_CC      7898 non-null   int64  \n",
      " 7   max_power_bhp  7898 non-null   float64\n",
      " 8   seats          7898 non-null   float64\n",
      "dtypes: float64(3), int32(3), int64(3)\n",
      "memory usage: 524.5 KB\n"
     ]
    }
   ],
   "source": [
    "x.info()"
   ]
  },
  {
   "cell_type": "code",
   "execution_count": 140,
   "id": "f9111c67",
   "metadata": {},
   "outputs": [
    {
     "name": "stdout",
     "output_type": "stream",
     "text": [
      "<class 'pandas.core.frame.DataFrame'>\n",
      "Int64Index: 7898 entries, 0 to 8127\n",
      "Data columns (total 10 columns):\n",
      " #   Column         Non-Null Count  Dtype  \n",
      "---  ------         --------------  -----  \n",
      " 0   brand          7898 non-null   int32  \n",
      " 1   year           7898 non-null   int64  \n",
      " 2   selling_price  7898 non-null   int64  \n",
      " 3   km_driven      7898 non-null   int64  \n",
      " 4   fuel           7898 non-null   int32  \n",
      " 5   owner          7898 non-null   int32  \n",
      " 6   mileage_kmpl   7898 non-null   float64\n",
      " 7   engine_CC      7898 non-null   int64  \n",
      " 8   max_power_bhp  7898 non-null   float64\n",
      " 9   seats          7898 non-null   float64\n",
      "dtypes: float64(3), int32(3), int64(4)\n",
      "memory usage: 586.2 KB\n"
     ]
    }
   ],
   "source": [
    "df.info()"
   ]
  },
  {
   "cell_type": "code",
   "execution_count": 141,
   "id": "5f1a57c5",
   "metadata": {},
   "outputs": [
    {
     "data": {
      "text/plain": [
       "(7898,)"
      ]
     },
     "execution_count": 141,
     "metadata": {},
     "output_type": "execute_result"
    }
   ],
   "source": [
    "y.shape"
   ]
  },
  {
   "cell_type": "code",
   "execution_count": 142,
   "id": "8eeb505d",
   "metadata": {},
   "outputs": [
    {
     "data": {
      "text/plain": [
       "array([2014, 2006, 2010, 2007, 2017, 2001, 2011, 2013, 2005, 2009, 2016,\n",
       "       2012, 2002, 2015, 2018, 2019, 2008, 2020, 1999, 2000, 2003, 2004,\n",
       "       1994, 1998, 1997, 1995, 1996], dtype=int64)"
      ]
     },
     "execution_count": 142,
     "metadata": {},
     "output_type": "execute_result"
    }
   ],
   "source": [
    "df['year'].unique()"
   ]
  },
  {
   "cell_type": "code",
   "execution_count": 143,
   "id": "ba86b230",
   "metadata": {},
   "outputs": [
    {
     "data": {
      "text/plain": [
       "pandas.core.series.Series"
      ]
     },
     "execution_count": 143,
     "metadata": {},
     "output_type": "execute_result"
    }
   ],
   "source": [
    "type(y)"
   ]
  },
  {
   "cell_type": "code",
   "execution_count": 144,
   "id": "964be742",
   "metadata": {},
   "outputs": [
    {
     "data": {
      "text/plain": [
       "LinearRegression()"
      ]
     },
     "execution_count": 144,
     "metadata": {},
     "output_type": "execute_result"
    }
   ],
   "source": [
    "from sklearn.linear_model import LinearRegression\n",
    "lin_reg = LinearRegression()\n",
    "lin_reg.fit(x, y.values)"
   ]
  },
  {
   "cell_type": "code",
   "execution_count": 145,
   "id": "548c9681",
   "metadata": {},
   "outputs": [],
   "source": [
    "y_pred = lin_reg.predict(x)"
   ]
  },
  {
   "cell_type": "code",
   "execution_count": 146,
   "id": "e5d90793",
   "metadata": {},
   "outputs": [],
   "source": [
    "from sklearn.metrics import mean_squared_error, mean_absolute_error\n",
    "import numpy as np\n",
    "err = np.sqrt(mean_squared_error(y, y_pred))"
   ]
  },
  {
   "cell_type": "code",
   "execution_count": 147,
   "id": "c64533e3",
   "metadata": {},
   "outputs": [
    {
     "data": {
      "text/plain": [
       "481503.1628614907"
      ]
     },
     "execution_count": 147,
     "metadata": {},
     "output_type": "execute_result"
    }
   ],
   "source": [
    "err"
   ]
  },
  {
   "cell_type": "code",
   "execution_count": 148,
   "id": "b13a2714",
   "metadata": {},
   "outputs": [
    {
     "data": {
      "text/plain": [
       "DecisionTreeRegressor(random_state=0)"
      ]
     },
     "execution_count": 148,
     "metadata": {},
     "output_type": "execute_result"
    }
   ],
   "source": [
    "from sklearn.tree import DecisionTreeRegressor\n",
    "dec_tree_reg = DecisionTreeRegressor(random_state=0)\n",
    "dec_tree_reg.fit(x, y.values)"
   ]
  },
  {
   "cell_type": "code",
   "execution_count": 149,
   "id": "f4a03890",
   "metadata": {},
   "outputs": [],
   "source": [
    "y_pred = dec_tree_reg.predict(x)"
   ]
  },
  {
   "cell_type": "code",
   "execution_count": 150,
   "id": "9b59f2aa",
   "metadata": {},
   "outputs": [
    {
     "data": {
      "text/plain": [
       "17341.360731993595"
      ]
     },
     "execution_count": 150,
     "metadata": {},
     "output_type": "execute_result"
    }
   ],
   "source": [
    "err = np.sqrt(mean_squared_error(y, y_pred))\n",
    "err"
   ]
  },
  {
   "cell_type": "code",
   "execution_count": 151,
   "id": "a4964236",
   "metadata": {},
   "outputs": [
    {
     "data": {
      "text/plain": [
       "RandomForestRegressor(random_state=0)"
      ]
     },
     "execution_count": 151,
     "metadata": {},
     "output_type": "execute_result"
    }
   ],
   "source": [
    "from sklearn.ensemble import RandomForestRegressor\n",
    "rand_for_reg = RandomForestRegressor(random_state=0)\n",
    "rand_for_reg.fit(x, y.values)"
   ]
  },
  {
   "cell_type": "code",
   "execution_count": 152,
   "id": "39350484",
   "metadata": {},
   "outputs": [],
   "source": [
    "y_pred = rand_for_reg.predict(x)"
   ]
  },
  {
   "cell_type": "code",
   "execution_count": 153,
   "id": "6e38147a",
   "metadata": {},
   "outputs": [
    {
     "data": {
      "text/plain": [
       "51651.2709681814"
      ]
     },
     "execution_count": 153,
     "metadata": {},
     "output_type": "execute_result"
    }
   ],
   "source": [
    "err = np.sqrt(mean_squared_error(y, y_pred))\n",
    "err"
   ]
  },
  {
   "cell_type": "code",
   "execution_count": 154,
   "id": "b5af1414",
   "metadata": {},
   "outputs": [
    {
     "data": {
      "text/plain": [
       "GridSearchCV(estimator=DecisionTreeRegressor(random_state=0),\n",
       "             param_grid={'max_depth': [None, 2, 4, 6, 8, 10, 12]},\n",
       "             scoring='neg_mean_squared_error')"
      ]
     },
     "execution_count": 154,
     "metadata": {},
     "output_type": "execute_result"
    }
   ],
   "source": [
    "from sklearn.model_selection import GridSearchCV\n",
    "max_depth = [None, 2,4,6,8,10,12]\n",
    "parameters = {\"max_depth\": max_depth}\n",
    "best_regressor = DecisionTreeRegressor(random_state=0)\n",
    "gs = GridSearchCV(best_regressor, parameters, scoring='neg_mean_squared_error')\n",
    "gs.fit(x, y.values)"
   ]
  },
  {
   "cell_type": "code",
   "execution_count": 155,
   "id": "5741ef6b",
   "metadata": {},
   "outputs": [
    {
     "data": {
      "text/plain": [
       "89571.19612739907"
      ]
     },
     "execution_count": 155,
     "metadata": {},
     "output_type": "execute_result"
    }
   ],
   "source": [
    "best_regressor = gs.best_estimator_\n",
    "best_regressor.fit(x, y.values)\n",
    "y_pred = best_regressor.predict(x)\n",
    "err = np.sqrt(mean_squared_error(y,y_pred))\n",
    "err"
   ]
  },
  {
   "cell_type": "code",
   "execution_count": 156,
   "id": "563ed0b3",
   "metadata": {},
   "outputs": [
    {
     "data": {
      "text/plain": [
       "17341.360731993595"
      ]
     },
     "execution_count": 156,
     "metadata": {},
     "output_type": "execute_result"
    }
   ],
   "source": [
    "from sklearn.tree import DecisionTreeRegressor\n",
    "dec_tree_reg = DecisionTreeRegressor(random_state=0)\n",
    "dec_tree_reg.fit(x, y.values)\n",
    "y_pred = dec_tree_reg.predict(x)\n",
    "err = np.sqrt(mean_squared_error(y, y_pred))\n",
    "err"
   ]
  },
  {
   "cell_type": "code",
   "execution_count": 157,
   "id": "00b4be4f",
   "metadata": {},
   "outputs": [
    {
     "data": {
      "text/html": [
       "<div>\n",
       "<style scoped>\n",
       "    .dataframe tbody tr th:only-of-type {\n",
       "        vertical-align: middle;\n",
       "    }\n",
       "\n",
       "    .dataframe tbody tr th {\n",
       "        vertical-align: top;\n",
       "    }\n",
       "\n",
       "    .dataframe thead th {\n",
       "        text-align: right;\n",
       "    }\n",
       "</style>\n",
       "<table border=\"1\" class=\"dataframe\">\n",
       "  <thead>\n",
       "    <tr style=\"text-align: right;\">\n",
       "      <th></th>\n",
       "      <th>brand</th>\n",
       "      <th>year</th>\n",
       "      <th>km_driven</th>\n",
       "      <th>fuel</th>\n",
       "      <th>owner</th>\n",
       "      <th>mileage_kmpl</th>\n",
       "      <th>engine_CC</th>\n",
       "      <th>max_power_bhp</th>\n",
       "      <th>seats</th>\n",
       "    </tr>\n",
       "  </thead>\n",
       "  <tbody>\n",
       "    <tr>\n",
       "      <th>0</th>\n",
       "      <td>12</td>\n",
       "      <td>2014</td>\n",
       "      <td>145500</td>\n",
       "      <td>1</td>\n",
       "      <td>0</td>\n",
       "      <td>23.40</td>\n",
       "      <td>1248</td>\n",
       "      <td>74.00</td>\n",
       "      <td>5.0</td>\n",
       "    </tr>\n",
       "    <tr>\n",
       "      <th>1</th>\n",
       "      <td>17</td>\n",
       "      <td>2014</td>\n",
       "      <td>120000</td>\n",
       "      <td>1</td>\n",
       "      <td>2</td>\n",
       "      <td>21.14</td>\n",
       "      <td>1498</td>\n",
       "      <td>103.52</td>\n",
       "      <td>5.0</td>\n",
       "    </tr>\n",
       "    <tr>\n",
       "      <th>2</th>\n",
       "      <td>6</td>\n",
       "      <td>2006</td>\n",
       "      <td>140000</td>\n",
       "      <td>3</td>\n",
       "      <td>3</td>\n",
       "      <td>17.70</td>\n",
       "      <td>1497</td>\n",
       "      <td>78.00</td>\n",
       "      <td>5.0</td>\n",
       "    </tr>\n",
       "    <tr>\n",
       "      <th>3</th>\n",
       "      <td>7</td>\n",
       "      <td>2010</td>\n",
       "      <td>127000</td>\n",
       "      <td>1</td>\n",
       "      <td>0</td>\n",
       "      <td>23.00</td>\n",
       "      <td>1396</td>\n",
       "      <td>90.00</td>\n",
       "      <td>5.0</td>\n",
       "    </tr>\n",
       "    <tr>\n",
       "      <th>4</th>\n",
       "      <td>12</td>\n",
       "      <td>2007</td>\n",
       "      <td>120000</td>\n",
       "      <td>3</td>\n",
       "      <td>0</td>\n",
       "      <td>16.10</td>\n",
       "      <td>1298</td>\n",
       "      <td>88.20</td>\n",
       "      <td>5.0</td>\n",
       "    </tr>\n",
       "    <tr>\n",
       "      <th>...</th>\n",
       "      <td>...</td>\n",
       "      <td>...</td>\n",
       "      <td>...</td>\n",
       "      <td>...</td>\n",
       "      <td>...</td>\n",
       "      <td>...</td>\n",
       "      <td>...</td>\n",
       "      <td>...</td>\n",
       "      <td>...</td>\n",
       "    </tr>\n",
       "    <tr>\n",
       "      <th>8123</th>\n",
       "      <td>7</td>\n",
       "      <td>2013</td>\n",
       "      <td>110000</td>\n",
       "      <td>3</td>\n",
       "      <td>0</td>\n",
       "      <td>18.50</td>\n",
       "      <td>1197</td>\n",
       "      <td>82.85</td>\n",
       "      <td>5.0</td>\n",
       "    </tr>\n",
       "    <tr>\n",
       "      <th>8124</th>\n",
       "      <td>7</td>\n",
       "      <td>2007</td>\n",
       "      <td>119000</td>\n",
       "      <td>1</td>\n",
       "      <td>1</td>\n",
       "      <td>16.80</td>\n",
       "      <td>1493</td>\n",
       "      <td>110.00</td>\n",
       "      <td>5.0</td>\n",
       "    </tr>\n",
       "    <tr>\n",
       "      <th>8125</th>\n",
       "      <td>12</td>\n",
       "      <td>2009</td>\n",
       "      <td>120000</td>\n",
       "      <td>1</td>\n",
       "      <td>0</td>\n",
       "      <td>19.30</td>\n",
       "      <td>1248</td>\n",
       "      <td>73.90</td>\n",
       "      <td>5.0</td>\n",
       "    </tr>\n",
       "    <tr>\n",
       "      <th>8126</th>\n",
       "      <td>18</td>\n",
       "      <td>2013</td>\n",
       "      <td>25000</td>\n",
       "      <td>1</td>\n",
       "      <td>0</td>\n",
       "      <td>23.57</td>\n",
       "      <td>1396</td>\n",
       "      <td>70.00</td>\n",
       "      <td>5.0</td>\n",
       "    </tr>\n",
       "    <tr>\n",
       "      <th>8127</th>\n",
       "      <td>18</td>\n",
       "      <td>2013</td>\n",
       "      <td>25000</td>\n",
       "      <td>1</td>\n",
       "      <td>0</td>\n",
       "      <td>23.57</td>\n",
       "      <td>1396</td>\n",
       "      <td>70.00</td>\n",
       "      <td>5.0</td>\n",
       "    </tr>\n",
       "  </tbody>\n",
       "</table>\n",
       "<p>7898 rows × 9 columns</p>\n",
       "</div>"
      ],
      "text/plain": [
       "      brand  year  km_driven  fuel  owner  mileage_kmpl  engine_CC  \\\n",
       "0        12  2014     145500     1      0         23.40       1248   \n",
       "1        17  2014     120000     1      2         21.14       1498   \n",
       "2         6  2006     140000     3      3         17.70       1497   \n",
       "3         7  2010     127000     1      0         23.00       1396   \n",
       "4        12  2007     120000     3      0         16.10       1298   \n",
       "...     ...   ...        ...   ...    ...           ...        ...   \n",
       "8123      7  2013     110000     3      0         18.50       1197   \n",
       "8124      7  2007     119000     1      1         16.80       1493   \n",
       "8125     12  2009     120000     1      0         19.30       1248   \n",
       "8126     18  2013      25000     1      0         23.57       1396   \n",
       "8127     18  2013      25000     1      0         23.57       1396   \n",
       "\n",
       "      max_power_bhp  seats  \n",
       "0             74.00    5.0  \n",
       "1            103.52    5.0  \n",
       "2             78.00    5.0  \n",
       "3             90.00    5.0  \n",
       "4             88.20    5.0  \n",
       "...             ...    ...  \n",
       "8123          82.85    5.0  \n",
       "8124         110.00    5.0  \n",
       "8125          73.90    5.0  \n",
       "8126          70.00    5.0  \n",
       "8127          70.00    5.0  \n",
       "\n",
       "[7898 rows x 9 columns]"
      ]
     },
     "execution_count": 157,
     "metadata": {},
     "output_type": "execute_result"
    }
   ],
   "source": [
    "x"
   ]
  },
  {
   "cell_type": "code",
   "execution_count": 187,
   "id": "74251e8f",
   "metadata": {},
   "outputs": [
    {
     "data": {
      "text/plain": [
       "1"
      ]
     },
     "execution_count": 187,
     "metadata": {},
     "output_type": "execute_result"
    }
   ],
   "source": [
    "x['km_driven'].min()"
   ]
  },
  {
   "cell_type": "code",
   "execution_count": 185,
   "id": "07639f24",
   "metadata": {},
   "outputs": [
    {
     "data": {
      "text/plain": [
       "400.0"
      ]
     },
     "execution_count": 185,
     "metadata": {},
     "output_type": "execute_result"
    }
   ],
   "source": [
    "x['max_power_bhp'].max()\n"
   ]
  },
  {
   "cell_type": "code",
   "execution_count": 158,
   "id": "be78a81d",
   "metadata": {},
   "outputs": [
    {
     "data": {
      "text/plain": [
       "array([['Maruti', '2014', '145500', 'Diesel', 'First Owner', '23.4',\n",
       "        '1248', '74', '5.0']], dtype='<U32')"
      ]
     },
     "execution_count": 158,
     "metadata": {},
     "output_type": "execute_result"
    }
   ],
   "source": [
    "#brand, year, km_driven, fuel, owner, milage, engine, max_pow, seats\n",
    "inpt = np.array([[\"Maruti\", 2014, 145500,\"Diesel\", \"First Owner\",23.4, 1248, 74, 5.0]])\n",
    "inpt"
   ]
  },
  {
   "cell_type": "code",
   "execution_count": 159,
   "id": "74d6dd04",
   "metadata": {},
   "outputs": [
    {
     "data": {
      "text/plain": [
       "array([[1.200e+01, 2.014e+03, 1.455e+05, 1.000e+00, 0.000e+00, 2.340e+01,\n",
       "        1.248e+03, 7.400e+01, 5.000e+00]])"
      ]
     },
     "execution_count": 159,
     "metadata": {},
     "output_type": "execute_result"
    }
   ],
   "source": [
    "inpt[:,0] = leb_brand.transform(inpt[:,0])\n",
    "inpt[:,3] = leb_fuel.transform(inpt[:,3])\n",
    "inpt[:,4] = leb_owner.transform(inpt[:,4])\n",
    "inpt = inpt.astype(float)\n",
    "inpt"
   ]
  },
  {
   "cell_type": "code",
   "execution_count": 160,
   "id": "d468db47",
   "metadata": {},
   "outputs": [
    {
     "data": {
      "text/plain": [
       "array([450000.])"
      ]
     },
     "execution_count": 160,
     "metadata": {},
     "output_type": "execute_result"
    }
   ],
   "source": [
    "y_pred = dec_tree_reg.predict(inpt)\n",
    "y_pred"
   ]
  },
  {
   "cell_type": "code",
   "execution_count": 161,
   "id": "8c0abd48",
   "metadata": {},
   "outputs": [],
   "source": [
    "import pickle"
   ]
  },
  {
   "cell_type": "code",
   "execution_count": 162,
   "id": "0ee6cef9",
   "metadata": {},
   "outputs": [],
   "source": [
    "save_data = {\"model\": dec_tree_reg, \"leb_brand\": leb_brand, \"leb_fuel\": leb_fuel, \"leb_owner\": leb_owner}\n",
    "with open('save_steps.pkl', 'wb') as file:\n",
    "    pickle.dump(save_data, file)"
   ]
  },
  {
   "cell_type": "code",
   "execution_count": 163,
   "id": "8d2d5307",
   "metadata": {},
   "outputs": [],
   "source": [
    "with open('save_steps.pkl', 'rb') as file:\n",
    "    save_data = pickle.load(file)\n",
    "\n",
    "regressor_loaded = save_data[\"model\"]\n",
    "leb_brand = save_data[\"leb_brand\"]\n",
    "leb_fuel = save_data[\"leb_fuel\"]\n",
    "leb_owner = save_data[\"leb_owner\"]"
   ]
  },
  {
   "cell_type": "code",
   "execution_count": 164,
   "id": "5995e859",
   "metadata": {},
   "outputs": [
    {
     "data": {
      "text/plain": [
       "array([450000.])"
      ]
     },
     "execution_count": 164,
     "metadata": {},
     "output_type": "execute_result"
    }
   ],
   "source": [
    "y_pred = regressor_loaded.predict(inpt)\n",
    "y_pred"
   ]
  },
  {
   "cell_type": "code",
   "execution_count": 165,
   "id": "200ac24a",
   "metadata": {},
   "outputs": [
    {
     "data": {
      "text/plain": [
       "array([12, 17,  6,  7, 19,  5, 16, 11, 18,  2,  3,  9, 13, 15,  0, 20,  1,\n",
       "       14, 10,  8, 21,  4])"
      ]
     },
     "execution_count": 165,
     "metadata": {},
     "output_type": "execute_result"
    }
   ],
   "source": [
    "df['brand'].unique()"
   ]
  },
  {
   "cell_type": "code",
   "execution_count": 179,
   "id": "9ea7b828",
   "metadata": {},
   "outputs": [
    {
     "data": {
      "text/plain": [
       "array([ 5.,  4.,  7.,  8.,  6.,  9., 10.])"
      ]
     },
     "execution_count": 179,
     "metadata": {},
     "output_type": "execute_result"
    }
   ],
   "source": [
    "x['seats'].unique()"
   ]
  },
  {
   "cell_type": "code",
   "execution_count": null,
   "id": "4c118ed0",
   "metadata": {},
   "outputs": [],
   "source": []
  }
 ],
 "metadata": {
  "kernelspec": {
   "display_name": "Python 3 (ipykernel)",
   "language": "python",
   "name": "python3"
  },
  "language_info": {
   "codemirror_mode": {
    "name": "ipython",
    "version": 3
   },
   "file_extension": ".py",
   "mimetype": "text/x-python",
   "name": "python",
   "nbconvert_exporter": "python",
   "pygments_lexer": "ipython3",
   "version": "3.9.6"
  }
 },
 "nbformat": 4,
 "nbformat_minor": 5
}
